{
 "cells": [
  {
   "cell_type": "markdown",
   "metadata": {},
   "source": [
    "# **Import Libraries and get dataset**"
   ]
  },
  {
   "cell_type": "code",
   "execution_count": 97,
   "metadata": {},
   "outputs": [],
   "source": [
    "\n",
    "import numpy as np\n",
    "import pandas as pd\n",
    "from sklearn.preprocessing import StandardScaler\n",
    "from sklearn.preprocessing import LabelEncoder\n",
    "from sklearn.preprocessing import MultiLabelBinarizer\n",
    "import matplotlib.pyplot as plt\n",
    "from sklearn.metrics import silhouette_score\n",
    "from sklearn.metrics import mean_absolute_error\n",
    "from skfuzzy import control as ctrl\n",
    "from sklearn.model_selection import train_test_split\n",
    "from sklearn.preprocessing import MinMaxScaler\n",
    "from sklearn.metrics import confusion_matrix,classification_report\n",
    "from sklearn.model_selection import cross_val_score, GridSearchCV\n",
    "\n",
    "from sklearn.svm import SVC\n",
    "from sklearn.cluster import KMeans\n",
    "import skfuzzy as fuzz\n",
    "from pyswarm import pso"
   ]
  },
  {
   "cell_type": "code",
   "execution_count": 98,
   "metadata": {},
   "outputs": [],
   "source": [
    "dataset = pd.read_csv('data/data-tc.csv')"
   ]
  },
  {
   "cell_type": "code",
   "execution_count": 99,
   "metadata": {},
   "outputs": [
    {
     "data": {
      "text/html": [
       "<div>\n",
       "<style scoped>\n",
       "    .dataframe tbody tr th:only-of-type {\n",
       "        vertical-align: middle;\n",
       "    }\n",
       "\n",
       "    .dataframe tbody tr th {\n",
       "        vertical-align: top;\n",
       "    }\n",
       "\n",
       "    .dataframe thead th {\n",
       "        text-align: right;\n",
       "    }\n",
       "</style>\n",
       "<table border=\"1\" class=\"dataframe\">\n",
       "  <thead>\n",
       "    <tr style=\"text-align: right;\">\n",
       "      <th></th>\n",
       "      <th>B_Req</th>\n",
       "      <th>R_Priority</th>\n",
       "      <th>FP</th>\n",
       "      <th>Complexity</th>\n",
       "      <th>Time</th>\n",
       "      <th>Cost</th>\n",
       "    </tr>\n",
       "  </thead>\n",
       "  <tbody>\n",
       "    <tr>\n",
       "      <th>0</th>\n",
       "      <td>1</td>\n",
       "      <td>94</td>\n",
       "      <td>TC#2027,TC#2928,TC#2053</td>\n",
       "      <td>3</td>\n",
       "      <td>4.0</td>\n",
       "      <td>60.0</td>\n",
       "    </tr>\n",
       "    <tr>\n",
       "      <th>1</th>\n",
       "      <td>2</td>\n",
       "      <td>197</td>\n",
       "      <td>TC#3269,TC#1752,TC#1042</td>\n",
       "      <td>3</td>\n",
       "      <td>4.0</td>\n",
       "      <td>60.0</td>\n",
       "    </tr>\n",
       "    <tr>\n",
       "      <th>2</th>\n",
       "      <td>3</td>\n",
       "      <td>163</td>\n",
       "      <td>TC#2843,TC#3332,TC#805,TC#2785</td>\n",
       "      <td>3</td>\n",
       "      <td>5.0</td>\n",
       "      <td>75.0</td>\n",
       "    </tr>\n",
       "    <tr>\n",
       "      <th>3</th>\n",
       "      <td>4</td>\n",
       "      <td>103</td>\n",
       "      <td>TC#1618,TC#953,TC#1368</td>\n",
       "      <td>1</td>\n",
       "      <td>4.0</td>\n",
       "      <td>20.0</td>\n",
       "    </tr>\n",
       "    <tr>\n",
       "      <th>4</th>\n",
       "      <td>5</td>\n",
       "      <td>70</td>\n",
       "      <td>TC#235,TC#3170,TC#2423</td>\n",
       "      <td>5</td>\n",
       "      <td>4.0</td>\n",
       "      <td>100.0</td>\n",
       "    </tr>\n",
       "  </tbody>\n",
       "</table>\n",
       "</div>"
      ],
      "text/plain": [
       "   B_Req R_Priority                              FP  Complexity  Time   Cost\n",
       "0      1         94         TC#2027,TC#2928,TC#2053           3   4.0   60.0\n",
       "1      2        197         TC#3269,TC#1752,TC#1042           3   4.0   60.0\n",
       "2      3        163  TC#2843,TC#3332,TC#805,TC#2785           3   5.0   75.0\n",
       "3      4        103          TC#1618,TC#953,TC#1368           1   4.0   20.0\n",
       "4      5         70          TC#235,TC#3170,TC#2423           5   4.0  100.0"
      ]
     },
     "execution_count": 99,
     "metadata": {},
     "output_type": "execute_result"
    }
   ],
   "source": [
    "dataset.head()"
   ]
  },
  {
   "cell_type": "code",
   "execution_count": 100,
   "metadata": {},
   "outputs": [
    {
     "name": "stdout",
     "output_type": "stream",
     "text": [
      "Total Data is 3314\n"
     ]
    }
   ],
   "source": [
    "isCount = dataset['FP'].count()\n",
    "print(f'Total Data is {isCount}')"
   ]
  },
  {
   "cell_type": "markdown",
   "metadata": {},
   "source": [
    "**The Method Used :**\n",
    "1. Fuzzy Logic ✅\n",
    "2. K Means ✅\n",
    "3. SVM ♻️\n",
    "4. K-Means PSO"
   ]
  },
  {
   "cell_type": "markdown",
   "metadata": {},
   "source": [
    "# **K-Means** \n",
    "\n",
    "Silhouette Score 0.6493910341258399"
   ]
  },
  {
   "cell_type": "code",
   "execution_count": 101,
   "metadata": {},
   "outputs": [
    {
     "data": {
      "text/html": [
       "<div>\n",
       "<style scoped>\n",
       "    .dataframe tbody tr th:only-of-type {\n",
       "        vertical-align: middle;\n",
       "    }\n",
       "\n",
       "    .dataframe tbody tr th {\n",
       "        vertical-align: top;\n",
       "    }\n",
       "\n",
       "    .dataframe thead th {\n",
       "        text-align: right;\n",
       "    }\n",
       "</style>\n",
       "<table border=\"1\" class=\"dataframe\">\n",
       "  <thead>\n",
       "    <tr style=\"text-align: right;\">\n",
       "      <th></th>\n",
       "      <th>B_Req</th>\n",
       "      <th>R_Priority</th>\n",
       "      <th>FP</th>\n",
       "      <th>Complexity</th>\n",
       "      <th>Time</th>\n",
       "      <th>Cost</th>\n",
       "      <th>Cluster</th>\n",
       "    </tr>\n",
       "  </thead>\n",
       "  <tbody>\n",
       "    <tr>\n",
       "      <th>3309</th>\n",
       "      <td>3310</td>\n",
       "      <td>S</td>\n",
       "      <td>TC#261,TC# 934</td>\n",
       "      <td>1</td>\n",
       "      <td>3.0</td>\n",
       "      <td>21.0</td>\n",
       "      <td>2</td>\n",
       "    </tr>\n",
       "    <tr>\n",
       "      <th>3310</th>\n",
       "      <td>3311</td>\n",
       "      <td>S</td>\n",
       "      <td>TC#299,TC# 290,TC# 2090</td>\n",
       "      <td>3</td>\n",
       "      <td>4.0</td>\n",
       "      <td>84.0</td>\n",
       "      <td>1</td>\n",
       "    </tr>\n",
       "    <tr>\n",
       "      <th>3311</th>\n",
       "      <td>3312</td>\n",
       "      <td>C</td>\n",
       "      <td>TC#1289,TC# 652,TC# 1061</td>\n",
       "      <td>3</td>\n",
       "      <td>4.0</td>\n",
       "      <td>84.0</td>\n",
       "      <td>1</td>\n",
       "    </tr>\n",
       "    <tr>\n",
       "      <th>3312</th>\n",
       "      <td>3313</td>\n",
       "      <td>M</td>\n",
       "      <td>TC#1003,TC# 1407,TC# 922</td>\n",
       "      <td>1</td>\n",
       "      <td>5.0</td>\n",
       "      <td>35.0</td>\n",
       "      <td>2</td>\n",
       "    </tr>\n",
       "    <tr>\n",
       "      <th>3313</th>\n",
       "      <td>3314</td>\n",
       "      <td>W</td>\n",
       "      <td>TC#1321,TC# 1675,TC# 1095,TC# 2573</td>\n",
       "      <td>1</td>\n",
       "      <td>4.5</td>\n",
       "      <td>31.5</td>\n",
       "      <td>2</td>\n",
       "    </tr>\n",
       "  </tbody>\n",
       "</table>\n",
       "</div>"
      ],
      "text/plain": [
       "      B_Req R_Priority                                  FP  Complexity  Time  \\\n",
       "3309   3310          S                      TC#261,TC# 934           1   3.0   \n",
       "3310   3311          S             TC#299,TC# 290,TC# 2090           3   4.0   \n",
       "3311   3312          C            TC#1289,TC# 652,TC# 1061           3   4.0   \n",
       "3312   3313          M            TC#1003,TC# 1407,TC# 922           1   5.0   \n",
       "3313   3314          W  TC#1321,TC# 1675,TC# 1095,TC# 2573           1   4.5   \n",
       "\n",
       "      Cost  Cluster  \n",
       "3309  21.0        2  \n",
       "3310  84.0        1  \n",
       "3311  84.0        1  \n",
       "3312  35.0        2  \n",
       "3313  31.5        2  "
      ]
     },
     "execution_count": 101,
     "metadata": {},
     "output_type": "execute_result"
    }
   ],
   "source": [
    "kmeans_dataset = dataset\n",
    "\n",
    "X = kmeans_dataset[['Complexity', 'Time', 'Cost']]\n",
    "\n",
    "kmeans = KMeans(n_clusters=3, random_state=42)\n",
    "\n",
    "kmeans_dataset['Cluster'] = kmeans.fit_predict(X)\n",
    "\n",
    "kmeans_dataset.tail()"
   ]
  },
  {
   "cell_type": "code",
   "execution_count": 102,
   "metadata": {},
   "outputs": [],
   "source": [
    "y = kmeans_dataset['Cluster']"
   ]
  },
  {
   "cell_type": "code",
   "execution_count": 103,
   "metadata": {},
   "outputs": [
    {
     "data": {
      "text/plain": [
       "<Figure size 1000x600 with 0 Axes>"
      ]
     },
     "execution_count": 103,
     "metadata": {},
     "output_type": "execute_result"
    },
    {
     "data": {
      "text/plain": [
       "<Figure size 1000x600 with 0 Axes>"
      ]
     },
     "metadata": {},
     "output_type": "display_data"
    }
   ],
   "source": [
    "plt.figure(figsize=(10, 6))"
   ]
  },
  {
   "cell_type": "code",
   "execution_count": 104,
   "metadata": {},
   "outputs": [
    {
     "data": {
      "image/png": "[encoded data removed]",
      "text/plain": [
       "<Figure size 640x480 with 1 Axes>"
      ]
     },
     "metadata": {},
     "output_type": "display_data"
    }
   ],
   "source": [
    "for cluster_num in range(3):\n",
    "    cluster_data = dataset[kmeans_dataset['Cluster'] == cluster_num]\n",
    "    plt.scatter(\n",
    "        # cluster_data['Complexity'], \n",
    "        cluster_data['Cost'], \n",
    "        cluster_data['Time'], \n",
    "        label=f'Cluster {cluster_num + 1}')\n",
    "\n",
    "plt.xlabel('Complexity')\n",
    "plt.ylabel('Time')\n",
    "plt.legend()\n",
    "plt.title('Hasil Clustering menggunakan K-Means')\n",
    "plt.show()"
   ]
  },
  {
   "cell_type": "code",
   "execution_count": 105,
   "metadata": {},
   "outputs": [
    {
     "name": "stdout",
     "output_type": "stream",
     "text": [
      "Score: 0.6493910341258399\n"
     ]
    }
   ],
   "source": [
    "score_avg = silhouette_score(X, kmeans_dataset['Cluster'])\n",
    "print(f\"Score: {score_avg}\")"
   ]
  },
  {
   "cell_type": "markdown",
   "metadata": {},
   "source": [
    "# **Fuzzy Logic** (masih evaluasi)\n",
    "\n",
    "Correct Cluster: 0.16018099547511322"
   ]
  },
  {
   "cell_type": "code",
   "execution_count": 106,
   "metadata": {},
   "outputs": [],
   "source": [
    "encoder = LabelEncoder()\n",
    "X = dataset[['Complexity','Time','Cost','Cluster']]\n",
    "y = dataset['Cluster']"
   ]
  },
  {
   "cell_type": "code",
   "execution_count": 107,
   "metadata": {},
   "outputs": [],
   "source": [
    "# encoder = LabelEncoder()\n",
    "# scaler = MinMaxScaler()\n",
    "# for col in X :\n",
    "#     X[col] = encoder.fit_transform(X[col])"
   ]
  },
  {
   "cell_type": "code",
   "execution_count": 108,
   "metadata": {},
   "outputs": [],
   "source": [
    "X_train, X_test, y_train, y_test = train_test_split(X,y, test_size=0.2, random_state=42)"
   ]
  },
  {
   "cell_type": "code",
   "execution_count": 109,
   "metadata": {},
   "outputs": [],
   "source": [
    "fuzzy_dataset = dataset\n",
    "\n",
    "B_Req = ctrl.Antecedent(np.arange(0, 201, 1), 'B_Req')\n",
    "R_Priority = ctrl.Antecedent(np.arange(0, 201, 1), 'R_Priority')\n",
    "Complexity = ctrl.Antecedent(np.arange(1, 6, 1), 'Complexity')\n",
    "Time = ctrl.Antecedent(np.arange(1, 6, 1), 'Time')\n",
    "Cost = ctrl.Antecedent(np.arange(20, 101, 1), 'Cost')\n",
    "\n",
    "fuzzy_dataset = fuzzy_dataset.drop(['Cluster'],axis=1)\n",
    "Cluster = ctrl.Consequent(np.arange(1, 4, 1), 'Cluster')\n",
    "\n",
    "Complexity.automf(3)\n",
    "Time.automf(3)\n",
    "Cost.automf(3)"
   ]
  },
  {
   "cell_type": "code",
   "execution_count": 110,
   "metadata": {},
   "outputs": [],
   "source": [
    "Cluster['low'] = fuzz.trimf(Cluster.universe, [1, 1, 1])\n",
    "Cluster['medium'] = fuzz.trimf(Cluster.universe, [2, 2, 2])\n",
    "Cluster['high'] = fuzz.trimf(Cluster.universe, [3, 3, 3])\n",
    "\n",
    "Complexity['low'] = fuzz.trimf(Complexity.universe, [1, 2, 3])\n",
    "Complexity['medium'] = fuzz.trimf(Complexity.universe, [2, 3, 4])\n",
    "Complexity['high'] = fuzz.trimf(Complexity.universe, [3, 4, 5])\n",
    "\n",
    "Time['low'] = fuzz.trimf(Time.universe, [1, 7, 14])\n",
    "Time['medium'] = fuzz.trimf(Time.universe, [7, 14, 21])\n",
    "Time['high'] = fuzz.trimf(Time.universe, [14, 21, 28])\n",
    "\n",
    "Cost['low'] = fuzz.trimf(Cost.universe, [7, 50, 100])\n",
    "Cost['medium'] = fuzz.trimf(Cost.universe, [50, 100, 150])\n",
    "Cost['high'] = fuzz.trimf(Cost.universe, [100, 150, 210])"
   ]
  },
  {
   "cell_type": "code",
   "execution_count": 111,
   "metadata": {},
   "outputs": [],
   "source": [
    "rule1 = ctrl.Rule(Complexity['low'] | Time['low'] | Cost['low'], Cluster['low'])\n",
    "rule2 = ctrl.Rule(Complexity['medium'] | Time['medium'] | Cost['medium'], Cluster['medium'])\n",
    "rule3 = ctrl.Rule(Complexity['high'] | Time['high'] | Cost['high'], Cluster['high'])\n",
    "rule4 = ctrl.Rule(Complexity['low'] | Time['medium'] | Cost['medium'], Cluster['medium'])\n",
    "rule5 = ctrl.Rule(Complexity['medium'] | Time['low'] | Cost['low'], Cluster['medium'])\n",
    "rule6 = ctrl.Rule(Complexity['high'] | Time['high'] | Cost['high'], Cluster['high'])\n",
    "rule7 = ctrl.Rule(Complexity['low'] | Time['low'] | Cost['medium'], Cluster['medium'])\n",
    "rule8 = ctrl.Rule(Complexity['low'] | Time['medium'] | Cost['low'], Cluster['medium'])\n",
    "rule9 = ctrl.Rule(Complexity['medium'] | Time['low'] | Cost['medium'], Cluster['high'])\n",
    "rule10 = ctrl.Rule(Complexity['medium'] | Time['medium'] | Cost['medium'], Cluster['medium'])\n",
    "rule11 = ctrl.Rule(Complexity['high'] | Time['low'] | Cost['low'], Cluster['low'])\n",
    "rule12 = ctrl.Rule(Complexity['high'] | Time['medium'] | Cost['low'], Cluster['medium'])\n",
    "rule13 = ctrl.Rule(Complexity['medium'] | Time['high'] | Cost['medium'], Cluster['low'])\n",
    "rule14 = ctrl.Rule(Complexity['high'] | Time['low'] | Cost['high'], Cluster['high'])\n",
    "rule15 = ctrl.Rule(Complexity['low'] | Time['high'] | Cost['high'], Cluster['high'])\n",
    "rule16 = ctrl.Rule(Complexity['low'] | Time['medium'] | Cost['high'], Cluster['medium'])\n",
    "rule17 = ctrl.Rule(Complexity['medium'] | Time['high'] | Cost['high'], Cluster['high'])\n",
    "rule18 = ctrl.Rule(Complexity['high'] | Time['high'] | Cost['low'], Cluster['medium'])\n",
    "rule19 = ctrl.Rule(Complexity['low'] | Time['high'] | Cost['medium'], Cluster['medium'])\n",
    "rule20 = ctrl.Rule(Complexity['medium'] | Time['medium'] | Cost['high'], Cluster['high'])\n",
    "rule21 = ctrl.Rule(Complexity['high'] | Time['medium'] | Cost['medium'], Cluster['low'])\n",
    "rule22 = ctrl.Rule(Complexity['medium'] | Time['high'] | Cost['low'], Cluster['medium'])\n",
    "rule23 = ctrl.Rule(Complexity['low'] | Time['high'] | Cost['low'], Cluster['low'])\n",
    "rule24 = ctrl.Rule(Complexity['high'] | Time['medium'] | Cost['high'], Cluster['high'])\n",
    "rule25 = ctrl.Rule(Complexity['low'] | Time['medium'] | Cost['medium'], Cluster['medium'])\n",
    "rule26 = ctrl.Rule(Complexity['medium'] | Time['high'] | Cost['high'], Cluster['high'])\n",
    "rule27 = ctrl.Rule(Complexity['low'] | Time['medium'] | Cost['high'], Cluster['high'])\n",
    "rule28 = ctrl.Rule(Complexity['medium'] | Time['high'] | Cost['low'], Cluster['low'])\n",
    "rule29 = ctrl.Rule(Complexity['high'] | Time['low'] | Cost['medium'], Cluster['medium'])\n",
    "rule30 = ctrl.Rule(Complexity['low'] & Time['low'] & Cost['low'], Cluster['low'])\n",
    "rule31 = ctrl.Rule(Complexity['medium'] & Time['medium'] & Cost['medium'], Cluster['medium'])\n",
    "rule32 = ctrl.Rule(Complexity['high'] & Time['high'] & Cost['high'], Cluster['high'])\n",
    "rule33 = ctrl.Rule(Complexity['low'] & Time['medium'] | Cost['high'], Cluster['medium'])\n",
    "rule34 = ctrl.Rule(Complexity['high'] | Time['medium'] & Cost['low'], Cluster['high'])\n",
    "\n",
    "clustering_ctrl = ctrl.ControlSystem([\n",
    "    rule1, rule2, rule3, rule4, rule5, rule6, rule7, rule8, rule9, rule10,\n",
    "    rule11, rule12, rule13, rule14, rule15, rule16, rule17, rule18, rule19,\n",
    "    rule20, rule21, rule22, rule23, rule24, rule25, rule26, rule27, rule28, \n",
    "    rule29, rule30, rule31, rule32, rule33, rule34\n",
    "])"
   ]
  },
  {
   "cell_type": "code",
   "execution_count": 112,
   "metadata": {},
   "outputs": [],
   "source": [
    "profit_sim = ctrl.ControlSystemSimulation(clustering_ctrl)\n",
    "predictions = []\n",
    "true_values = X_test['Cluster'].tolist()\n",
    "\n",
    "X_test.drop('Cluster', axis=1, inplace=True)\n",
    "\n",
    "clustering = ctrl.ControlSystemSimulation(clustering_ctrl)"
   ]
  },
  {
   "cell_type": "code",
   "execution_count": 113,
   "metadata": {},
   "outputs": [],
   "source": [
    "for i in range(len(X_test)):\n",
    "    for column in X_test.columns:\n",
    "        profit_sim.input[column] = X_test.iloc[i][column]\n",
    "\n",
    "    profit_sim.compute()\n",
    "\n",
    "    predicted_profit_category = profit_sim.output['Cluster']\n",
    "    predictions.append(round(predicted_profit_category, 1))"
   ]
  },
  {
   "cell_type": "code",
   "execution_count": 114,
   "metadata": {},
   "outputs": [
    {
     "name": "stdout",
     "output_type": "stream",
     "text": [
      "Correct Cluster (1 - Mae): 0.16018099547511322\n"
     ]
    }
   ],
   "source": [
    "mae = mean_absolute_error(true_values, predictions)\n",
    "print(\"Correct Cluster (1 - Mae):\", 1.0 - mae)"
   ]
  },
  {
   "cell_type": "markdown",
   "metadata": {},
   "source": [
    "# **SVM** (masih evaluasi)\n",
    "\n",
    "Classification 1.0"
   ]
  },
  {
   "cell_type": "code",
   "execution_count": 115,
   "metadata": {},
   "outputs": [],
   "source": [
    "X = dataset[['Complexity','Time','Cost','Cluster']]\n",
    "y = dataset['Cluster']"
   ]
  },
  {
   "cell_type": "code",
   "execution_count": 116,
   "metadata": {},
   "outputs": [],
   "source": [
    "X_train, X_test, y_train, y_test = train_test_split(X,y, test_size=0.2, random_state=42)"
   ]
  },
  {
   "cell_type": "code",
   "execution_count": 117,
   "metadata": {},
   "outputs": [],
   "source": [
    "svm_dataset = dataset\n",
    "svm_dataset = svm_dataset.drop(['Cluster'],axis=1)"
   ]
  },
  {
   "cell_type": "code",
   "execution_count": 118,
   "metadata": {},
   "outputs": [],
   "source": [
    "params_grid = [\n",
    "       {\n",
    "           'kernel': ['rbf'],\n",
    "           'gamma': [1e-3, 1e-4],\n",
    "           'C': range(10, 100, 20)\n",
    "       },\n",
    "        {\n",
    "            'kernel': ['linear'],\n",
    "            'gamma': [1e-3, 1e-4],\n",
    "            'C': range(10, 100, 20)\n",
    "        }\n",
    "    ]"
   ]
  },
  {
   "cell_type": "code",
   "execution_count": 119,
   "metadata": {},
   "outputs": [
    {
     "data": {
      "text/plain": [
       "GridSearchCV(cv=2, estimator=SVC(),\n",
       "             param_grid=[{'C': range(10, 100, 20), 'gamma': [0.001, 0.0001],\n",
       "                          'kernel': ['rbf']},\n",
       "                         {'C': range(10, 100, 20), 'gamma': [0.001, 0.0001],\n",
       "                          'kernel': ['linear']}])"
      ]
     },
     "execution_count": 119,
     "metadata": {},
     "output_type": "execute_result"
    }
   ],
   "source": [
    "svm_model = GridSearchCV(SVC(), params_grid, cv=2)\n",
    "svm_model.fit(X_train, y_train)"
   ]
  },
  {
   "cell_type": "code",
   "execution_count": 120,
   "metadata": {},
   "outputs": [
    {
     "data": {
      "text/html": [
       "<div>\n",
       "<style scoped>\n",
       "    .dataframe tbody tr th:only-of-type {\n",
       "        vertical-align: middle;\n",
       "    }\n",
       "\n",
       "    .dataframe tbody tr th {\n",
       "        vertical-align: top;\n",
       "    }\n",
       "\n",
       "    .dataframe thead th {\n",
       "        text-align: right;\n",
       "    }\n",
       "</style>\n",
       "<table border=\"1\" class=\"dataframe\">\n",
       "  <thead>\n",
       "    <tr style=\"text-align: right;\">\n",
       "      <th></th>\n",
       "      <th>mean_fit_time</th>\n",
       "      <th>std_fit_time</th>\n",
       "      <th>mean_score_time</th>\n",
       "      <th>std_score_time</th>\n",
       "      <th>param_C</th>\n",
       "      <th>param_gamma</th>\n",
       "      <th>param_kernel</th>\n",
       "      <th>params</th>\n",
       "      <th>split0_test_score</th>\n",
       "      <th>split1_test_score</th>\n",
       "      <th>mean_test_score</th>\n",
       "      <th>std_test_score</th>\n",
       "      <th>rank_test_score</th>\n",
       "    </tr>\n",
       "  </thead>\n",
       "  <tbody>\n",
       "    <tr>\n",
       "      <th>0</th>\n",
       "      <td>0.003444</td>\n",
       "      <td>0.000067</td>\n",
       "      <td>0.002337</td>\n",
       "      <td>0.000112</td>\n",
       "      <td>10</td>\n",
       "      <td>0.001</td>\n",
       "      <td>rbf</td>\n",
       "      <td>{'C': 10, 'gamma': 0.001, 'kernel': 'rbf'}</td>\n",
       "      <td>1.0</td>\n",
       "      <td>1.0</td>\n",
       "      <td>1.0</td>\n",
       "      <td>0.0</td>\n",
       "      <td>1</td>\n",
       "    </tr>\n",
       "  </tbody>\n",
       "</table>\n",
       "</div>"
      ],
      "text/plain": [
       "   mean_fit_time  std_fit_time  mean_score_time  std_score_time param_C  \\\n",
       "0       0.003444      0.000067         0.002337        0.000112      10   \n",
       "\n",
       "  param_gamma param_kernel                                      params  \\\n",
       "0       0.001          rbf  {'C': 10, 'gamma': 0.001, 'kernel': 'rbf'}   \n",
       "\n",
       "   split0_test_score  split1_test_score  mean_test_score  std_test_score  \\\n",
       "0                1.0                1.0              1.0             0.0   \n",
       "\n",
       "   rank_test_score  \n",
       "0                1  "
      ]
     },
     "execution_count": 120,
     "metadata": {},
     "output_type": "execute_result"
    }
   ],
   "source": [
    "cv_results_dt = pd.DataFrame(svm_model.cv_results_)\n",
    "cv_results_dt.sort_values(\"rank_test_score\").head(1)"
   ]
  },
  {
   "cell_type": "code",
   "execution_count": 121,
   "metadata": {},
   "outputs": [],
   "source": [
    "svm_model = svm_model.best_estimator_\n",
    "Y_pred = svm_model.predict(X_test)"
   ]
  },
  {
   "cell_type": "code",
   "execution_count": 122,
   "metadata": {},
   "outputs": [
    {
     "name": "stdout",
     "output_type": "stream",
     "text": [
      "[[174   0   0]\n",
      " [  0 209   0]\n",
      " [  0   0 280]]\n",
      "\n",
      "\n",
      "              precision    recall  f1-score   support\n",
      "\n",
      "           0       1.00      1.00      1.00       174\n",
      "           1       1.00      1.00      1.00       209\n",
      "           2       1.00      1.00      1.00       280\n",
      "\n",
      "    accuracy                           1.00       663\n",
      "   macro avg       1.00      1.00      1.00       663\n",
      "weighted avg       1.00      1.00      1.00       663\n",
      "\n"
     ]
    }
   ],
   "source": [
    "print(confusion_matrix(y_test,Y_pred))\n",
    "print(\"\\n\")\n",
    "print(classification_report(y_test,Y_pred))"
   ]
  },
  {
   "cell_type": "markdown",
   "metadata": {},
   "source": [
    "# **K-Means PSO** (masih evaluasi)\n",
    "\n",
    "Silhouette Score: 0.7002393833835252"
   ]
  },
  {
   "cell_type": "code",
   "execution_count": 130,
   "metadata": {},
   "outputs": [],
   "source": [
    "pso_dataset = dataset[['Complexity','Time','Cost']]\n",
    "# pso_dataset = pso_dataset.drop(['Cluster'],axis=1)"
   ]
  },
  {
   "cell_type": "code",
   "execution_count": 131,
   "metadata": {},
   "outputs": [],
   "source": [
    "def kmeans_inertia(X, k):\n",
    "    kmeans = KMeans(n_clusters=k, random_state=0)\n",
    "    kmeans.fit(X)\n",
    "    return kmeans.inertia_"
   ]
  },
  {
   "cell_type": "code",
   "execution_count": 132,
   "metadata": {},
   "outputs": [],
   "source": [
    "def pso_objective(k_values, X):\n",
    "    k = int(k_values[0])\n",
    "    return kmeans_inertia(X, k)"
   ]
  },
  {
   "cell_type": "code",
   "execution_count": 133,
   "metadata": {},
   "outputs": [
    {
     "name": "stdout",
     "output_type": "stream",
     "text": [
      "Stopping search: Swarm best objective change less than 1e-08\n",
      "Jumlah cluster terbaik: 241295\n",
      "Jumlah inertia terbaik: 5\n"
     ]
    }
   ],
   "source": [
    "best_inertia, best_k = pso(pso_objective, lb=[2], ub=[5], args=(pso_dataset,))\n",
    "best_k = int(best_k)\n",
    "best_inertia = int(best_inertia[0])\n",
    "print(f\"Jumlah cluster terbaik: {best_k}\")\n",
    "print(f\"Jumlah inertia terbaik: {best_inertia}\")\n"
   ]
  },
  {
   "cell_type": "code",
   "execution_count": 134,
   "metadata": {},
   "outputs": [
    {
     "name": "stdout",
     "output_type": "stream",
     "text": [
      "Label cluster untuk setiap data point: [0 0 0 ... 1 2 2]\n",
      "Pusat cluster: [[  3.60049628   3.53101737  63.28411911]\n",
      " [  4.34169279   3.83855799  94.88087774]\n",
      " [  1.65582656   3.04065041  23.60128726]\n",
      " [  4.97484277   4.5754717  131.50314465]\n",
      " [  4.89473684   5.32894737 174.35526316]]\n"
     ]
    }
   ],
   "source": [
    "best_kmeans = KMeans(n_clusters=best_inertia, random_state=42)\n",
    "best_kmeans.fit(pso_dataset)\n",
    "\n",
    "labels = best_kmeans.labels_\n",
    "print(\"Label cluster untuk setiap data point:\", labels)\n",
    "\n",
    "print(\"Pusat cluster:\", best_kmeans.cluster_centers_)"
   ]
  },
  {
   "cell_type": "code",
   "execution_count": 135,
   "metadata": {},
   "outputs": [
    {
     "name": "stdout",
     "output_type": "stream",
     "text": [
      "Silhouette Score: 0.7002393833835252\n"
     ]
    }
   ],
   "source": [
    "silhouette_avg = silhouette_score(pso_dataset, labels)\n",
    "print(f\"Silhouette Score: {silhouette_avg}\")"
   ]
  }
 ],
 "metadata": {
  "kernelspec": {
   "display_name": "base",
   "language": "python",
   "name": "python3"
  },
  "language_info": {
   "codemirror_mode": {
    "name": "ipython",
    "version": 3
   },
   "file_extension": ".py",
   "mimetype": "text/x-python",
   "name": "python",
   "nbconvert_exporter": "python",
   "pygments_lexer": "ipython3",
   "version": "3.9.13"
  },
  "orig_nbformat": 4
 },
 "nbformat": 4,
 "nbformat_minor": 2
}
