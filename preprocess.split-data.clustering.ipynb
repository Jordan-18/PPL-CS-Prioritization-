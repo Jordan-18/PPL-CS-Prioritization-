{
 "cells": [
  {
   "cell_type": "markdown",
   "metadata": {},
   "source": [
    "# **Import Libraries and get dataset**"
   ]
  },
  {
   "cell_type": "code",
   "execution_count": 508,
   "metadata": {},
   "outputs": [],
   "source": [
    "import pandas as pd\n",
    "from sklearn.model_selection import train_test_split\n",
    "from sklearn.preprocessing import LabelEncoder, OneHotEncoder\n",
    "from sklearn.preprocessing import StandardScaler\n",
    "import matplotlib.pyplot as plt\n",
    "from sklearn.metrics import silhouette_score,silhouette_samples"
   ]
  },
  {
   "cell_type": "code",
   "execution_count": 509,
   "metadata": {},
   "outputs": [],
   "source": [
    "dataset = pd.read_csv('data/data-tc.csv')"
   ]
  },
  {
   "cell_type": "code",
   "execution_count": 510,
   "metadata": {},
   "outputs": [
    {
     "data": {
      "text/html": [
       "<div>\n",
       "<style scoped>\n",
       "    .dataframe tbody tr th:only-of-type {\n",
       "        vertical-align: middle;\n",
       "    }\n",
       "\n",
       "    .dataframe tbody tr th {\n",
       "        vertical-align: top;\n",
       "    }\n",
       "\n",
       "    .dataframe thead th {\n",
       "        text-align: right;\n",
       "    }\n",
       "</style>\n",
       "<table border=\"1\" class=\"dataframe\">\n",
       "  <thead>\n",
       "    <tr style=\"text-align: right;\">\n",
       "      <th></th>\n",
       "      <th>B_Req</th>\n",
       "      <th>R_Priority</th>\n",
       "      <th>FP</th>\n",
       "      <th>Complexity</th>\n",
       "      <th>Time</th>\n",
       "      <th>Cost</th>\n",
       "    </tr>\n",
       "  </thead>\n",
       "  <tbody>\n",
       "    <tr>\n",
       "      <th>0</th>\n",
       "      <td>1</td>\n",
       "      <td>94</td>\n",
       "      <td>TC#2027,TC#2928,TC#2053</td>\n",
       "      <td>3</td>\n",
       "      <td>4.0</td>\n",
       "      <td>60.0</td>\n",
       "    </tr>\n",
       "    <tr>\n",
       "      <th>1</th>\n",
       "      <td>2</td>\n",
       "      <td>197</td>\n",
       "      <td>TC#3269,TC#1752,TC#1042</td>\n",
       "      <td>3</td>\n",
       "      <td>4.0</td>\n",
       "      <td>60.0</td>\n",
       "    </tr>\n",
       "    <tr>\n",
       "      <th>2</th>\n",
       "      <td>3</td>\n",
       "      <td>163</td>\n",
       "      <td>TC#2843,TC#3332,TC#805,TC#2785</td>\n",
       "      <td>3</td>\n",
       "      <td>5.0</td>\n",
       "      <td>75.0</td>\n",
       "    </tr>\n",
       "    <tr>\n",
       "      <th>3</th>\n",
       "      <td>4</td>\n",
       "      <td>103</td>\n",
       "      <td>TC#1618,TC#953,TC#1368</td>\n",
       "      <td>1</td>\n",
       "      <td>4.0</td>\n",
       "      <td>20.0</td>\n",
       "    </tr>\n",
       "    <tr>\n",
       "      <th>4</th>\n",
       "      <td>5</td>\n",
       "      <td>70</td>\n",
       "      <td>TC#235,TC#3170,TC#2423</td>\n",
       "      <td>5</td>\n",
       "      <td>4.0</td>\n",
       "      <td>100.0</td>\n",
       "    </tr>\n",
       "  </tbody>\n",
       "</table>\n",
       "</div>"
      ],
      "text/plain": [
       "   B_Req  R_Priority                              FP  Complexity  Time   Cost\n",
       "0      1          94         TC#2027,TC#2928,TC#2053           3   4.0   60.0\n",
       "1      2         197         TC#3269,TC#1752,TC#1042           3   4.0   60.0\n",
       "2      3         163  TC#2843,TC#3332,TC#805,TC#2785           3   5.0   75.0\n",
       "3      4         103          TC#1618,TC#953,TC#1368           1   4.0   20.0\n",
       "4      5          70          TC#235,TC#3170,TC#2423           5   4.0  100.0"
      ]
     },
     "execution_count": 510,
     "metadata": {},
     "output_type": "execute_result"
    }
   ],
   "source": [
    "dataset.head()"
   ]
  },
  {
   "cell_type": "code",
   "execution_count": 511,
   "metadata": {},
   "outputs": [
    {
     "name": "stdout",
     "output_type": "stream",
     "text": [
      "Total Data is 3314\n"
     ]
    }
   ],
   "source": [
    "isCount = dataset['FP'].count()\n",
    "print(f'Total Data is {isCount}')"
   ]
  },
  {
   "cell_type": "markdown",
   "metadata": {},
   "source": [
    "# **Preprocess Data**"
   ]
  },
  {
   "cell_type": "code",
   "execution_count": 512,
   "metadata": {},
   "outputs": [],
   "source": [
    "label_encoder = LabelEncoder()\n",
    "dataset[\"B_Req\"] = label_encoder.fit_transform(dataset[\"B_Req\"])\n",
    "dataset[\"R_Priority\"] = label_encoder.fit_transform(dataset[\"R_Priority\"])"
   ]
  },
  {
   "cell_type": "code",
   "execution_count": 513,
   "metadata": {},
   "outputs": [],
   "source": [
    "dataset[\"FP\"] = dataset[\"FP\"].apply(lambda x: len(x.split(\",\")))\n",
    "\n",
    "scaler = StandardScaler()\n",
    "dataset[[\"Complexity\", \"Time\", \"Cost\"]] = scaler.fit_transform(dataset[[\"Complexity\", \"Time\", \"Cost\"]])"
   ]
  },
  {
   "cell_type": "code",
   "execution_count": 514,
   "metadata": {},
   "outputs": [],
   "source": [
    "dataset.fillna(dataset.mean(), inplace=True)\n",
    "dataset = dataset[(dataset[\"Complexity\"] > -3) & (dataset[\"Complexity\"] < 3)]"
   ]
  },
  {
   "cell_type": "code",
   "execution_count": 515,
   "metadata": {},
   "outputs": [
    {
     "data": {
      "text/html": [
       "<div>\n",
       "<style scoped>\n",
       "    .dataframe tbody tr th:only-of-type {\n",
       "        vertical-align: middle;\n",
       "    }\n",
       "\n",
       "    .dataframe tbody tr th {\n",
       "        vertical-align: top;\n",
       "    }\n",
       "\n",
       "    .dataframe thead th {\n",
       "        text-align: right;\n",
       "    }\n",
       "</style>\n",
       "<table border=\"1\" class=\"dataframe\">\n",
       "  <thead>\n",
       "    <tr style=\"text-align: right;\">\n",
       "      <th></th>\n",
       "      <th>B_Req</th>\n",
       "      <th>R_Priority</th>\n",
       "      <th>FP</th>\n",
       "      <th>Complexity</th>\n",
       "      <th>Time</th>\n",
       "      <th>Cost</th>\n",
       "    </tr>\n",
       "  </thead>\n",
       "  <tbody>\n",
       "    <tr>\n",
       "      <th>0</th>\n",
       "      <td>0</td>\n",
       "      <td>62</td>\n",
       "      <td>3</td>\n",
       "      <td>-0.023581</td>\n",
       "      <td>0.384733</td>\n",
       "      <td>-0.019140</td>\n",
       "    </tr>\n",
       "    <tr>\n",
       "      <th>1</th>\n",
       "      <td>1</td>\n",
       "      <td>165</td>\n",
       "      <td>3</td>\n",
       "      <td>-0.023581</td>\n",
       "      <td>0.384733</td>\n",
       "      <td>-0.019140</td>\n",
       "    </tr>\n",
       "    <tr>\n",
       "      <th>2</th>\n",
       "      <td>2</td>\n",
       "      <td>131</td>\n",
       "      <td>4</td>\n",
       "      <td>-0.023581</td>\n",
       "      <td>1.175190</td>\n",
       "      <td>0.346027</td>\n",
       "    </tr>\n",
       "    <tr>\n",
       "      <th>3</th>\n",
       "      <td>3</td>\n",
       "      <td>71</td>\n",
       "      <td>3</td>\n",
       "      <td>-1.244620</td>\n",
       "      <td>0.384733</td>\n",
       "      <td>-0.992918</td>\n",
       "    </tr>\n",
       "    <tr>\n",
       "      <th>4</th>\n",
       "      <td>4</td>\n",
       "      <td>38</td>\n",
       "      <td>3</td>\n",
       "      <td>1.197458</td>\n",
       "      <td>0.384733</td>\n",
       "      <td>0.954639</td>\n",
       "    </tr>\n",
       "  </tbody>\n",
       "</table>\n",
       "</div>"
      ],
      "text/plain": [
       "   B_Req  R_Priority  FP  Complexity      Time      Cost\n",
       "0      0          62   3   -0.023581  0.384733 -0.019140\n",
       "1      1         165   3   -0.023581  0.384733 -0.019140\n",
       "2      2         131   4   -0.023581  1.175190  0.346027\n",
       "3      3          71   3   -1.244620  0.384733 -0.992918\n",
       "4      4          38   3    1.197458  0.384733  0.954639"
      ]
     },
     "execution_count": 515,
     "metadata": {},
     "output_type": "execute_result"
    }
   ],
   "source": [
    "dataset.head()"
   ]
  },
  {
   "cell_type": "code",
   "execution_count": 516,
   "metadata": {},
   "outputs": [],
   "source": [
    "X = dataset[['Complexity', 'Time', 'Cost']]\n",
    "# X = dataset.iloc[:, 1:]"
   ]
  },
  {
   "cell_type": "markdown",
   "metadata": {},
   "source": [
    "# **K-Means**"
   ]
  },
  {
   "cell_type": "code",
   "execution_count": 517,
   "metadata": {},
   "outputs": [],
   "source": [
    "from sklearn.cluster import KMeans"
   ]
  },
  {
   "cell_type": "code",
   "execution_count": 518,
   "metadata": {},
   "outputs": [],
   "source": [
    "kmeans = KMeans(n_clusters=3, random_state=0,max_iter=50)\n",
    "dataset['Class'] = kmeans.fit_predict(dataset[['Complexity', 'Time', 'Cost']] )"
   ]
  },
  {
   "cell_type": "code",
   "execution_count": 519,
   "metadata": {},
   "outputs": [
    {
     "name": "stdout",
     "output_type": "stream",
     "text": [
      "Score: 0.48418821015031827\n"
     ]
    }
   ],
   "source": [
    "score_avg = silhouette_score(X, dataset['Class'])\n",
    "print(f\"Score: {score_avg}\")"
   ]
  },
  {
   "cell_type": "code",
   "execution_count": 520,
   "metadata": {},
   "outputs": [
    {
     "data": {
      "image/png": "[encoded data removed]",
      "text/plain": [
       "<Figure size 640x480 with 1 Axes>"
      ]
     },
     "metadata": {},
     "output_type": "display_data"
    }
   ],
   "source": [
    "for cluster_num in range(3):\n",
    "    cluster_data = dataset[dataset['Class'] == cluster_num]\n",
    "    plt.scatter(\n",
    "        # cluster_data['Complexity'], \n",
    "        cluster_data['Cost'], \n",
    "        cluster_data['Time'], \n",
    "        label=f'Cluster {cluster_num + 1}')\n",
    "\n",
    "plt.xlabel('Complexity')\n",
    "plt.ylabel('Time')\n",
    "plt.legend()\n",
    "plt.title('Hasil Clustering menggunakan K-Means')\n",
    "plt.show()"
   ]
  },
  {
   "cell_type": "markdown",
   "metadata": {},
   "source": [
    "**Split Data**"
   ]
  },
  {
   "cell_type": "code",
   "execution_count": 521,
   "metadata": {},
   "outputs": [],
   "source": [
    "X_train, X_test = train_test_split(dataset, test_size=0.2, random_state=42)"
   ]
  },
  {
   "cell_type": "code",
   "execution_count": 522,
   "metadata": {},
   "outputs": [],
   "source": [
    "dataset.to_csv('data/kmeans/data-preprocess.csv', index=False)\n",
    "\n",
    "X_train.to_csv('data/kmeans/data-train.csv', index=False)\n",
    "X_test.to_csv('data/kmeans/data-test.csv', index=False)"
   ]
  },
  {
   "cell_type": "code",
   "execution_count": 523,
   "metadata": {},
   "outputs": [],
   "source": [
    "dataset.drop(['Class'], axis=1, inplace=True)"
   ]
  },
  {
   "cell_type": "markdown",
   "metadata": {},
   "source": [
    "# **Hierarchical**"
   ]
  },
  {
   "cell_type": "code",
   "execution_count": 524,
   "metadata": {},
   "outputs": [],
   "source": [
    "from sklearn.cluster import AgglomerativeClustering\n",
    "\n",
    "agg_clustering = AgglomerativeClustering(n_clusters=3, affinity='euclidean', linkage='ward')\n",
    "agg_clustering.fit(X)\n",
    "\n",
    "dataset['Class'] = agg_clustering.labels_\n"
   ]
  },
  {
   "cell_type": "code",
   "execution_count": 525,
   "metadata": {},
   "outputs": [
    {
     "name": "stdout",
     "output_type": "stream",
     "text": [
      "Score: 0.43819260583179687\n"
     ]
    }
   ],
   "source": [
    "silhouette = silhouette_score(X, dataset['Class'])\n",
    "print(f\"Score: {silhouette}\")"
   ]
  },
  {
   "cell_type": "code",
   "execution_count": 526,
   "metadata": {},
   "outputs": [
    {
     "data": {
      "image/png": "[encoded data removed]",
      "text/plain": [
       "<Figure size 640x480 with 1 Axes>"
      ]
     },
     "metadata": {},
     "output_type": "display_data"
    }
   ],
   "source": [
    "for cluster_num in range(3):\n",
    "    cluster_data = dataset[dataset['Class'] == cluster_num]\n",
    "    plt.scatter(\n",
    "        # cluster_data['Complexity'], \n",
    "        cluster_data['Cost'], \n",
    "        cluster_data['Time'], \n",
    "        label=f'Cluster {cluster_num + 1}')\n",
    "\n",
    "plt.xlabel('Complexity')\n",
    "plt.ylabel('Time')\n",
    "plt.legend()\n",
    "plt.title('Hasil Clustering menggunakan Hierarchical')\n",
    "plt.show()"
   ]
  },
  {
   "cell_type": "code",
   "execution_count": 527,
   "metadata": {},
   "outputs": [],
   "source": [
    "dataset.drop(['Class'], axis=1, inplace=True)"
   ]
  },
  {
   "cell_type": "markdown",
   "metadata": {},
   "source": [
    "**Split Data**"
   ]
  },
  {
   "cell_type": "code",
   "execution_count": 528,
   "metadata": {},
   "outputs": [],
   "source": [
    "X_train, X_test = train_test_split(dataset, test_size=0.2, random_state=42)"
   ]
  },
  {
   "cell_type": "code",
   "execution_count": 529,
   "metadata": {},
   "outputs": [],
   "source": [
    "dataset.to_csv('data/hierarchical/data-preprocess.csv', index=False)\n",
    "\n",
    "X_train.to_csv('data/hierarchical/data-train.csv', index=False)\n",
    "X_test.to_csv('data/hierarchical/data-test.csv', index=False)"
   ]
  },
  {
   "cell_type": "markdown",
   "metadata": {},
   "source": [
    "# **DBSCAN**"
   ]
  },
  {
   "cell_type": "code",
   "execution_count": 530,
   "metadata": {},
   "outputs": [],
   "source": [
    "from sklearn.cluster import DBSCAN\n",
    "\n",
    "# Menerapkan DBSCAN\n",
    "dbscan = DBSCAN(eps=0.3, min_samples=5)\n",
    "dbscan.fit(X)\n",
    "\n",
    "# Menambahkan label kelompok ke dalam dataset\n",
    "dataset['Class'] = dbscan.labels_\n"
   ]
  },
  {
   "cell_type": "code",
   "execution_count": 531,
   "metadata": {},
   "outputs": [
    {
     "name": "stdout",
     "output_type": "stream",
     "text": [
      "Score: 0.9341457514848557\n"
     ]
    }
   ],
   "source": [
    "silhouette = silhouette_score(X, dataset['Class'])\n",
    "print(f\"Score: {silhouette}\")"
   ]
  },
  {
   "cell_type": "code",
   "execution_count": 532,
   "metadata": {},
   "outputs": [
    {
     "data": {
      "image/png": "[encoded data removed]",
      "text/plain": [
       "<Figure size 640x480 with 1 Axes>"
      ]
     },
     "metadata": {},
     "output_type": "display_data"
    }
   ],
   "source": [
    "for cluster_num in range(3):\n",
    "    cluster_data = dataset[dataset['Class'] == cluster_num]\n",
    "    plt.scatter(\n",
    "        # cluster_data['Complexity'], \n",
    "        cluster_data['Cost'], \n",
    "        cluster_data['Time'], \n",
    "        label=f'Cluster {cluster_num + 1}')\n",
    "\n",
    "plt.xlabel('Complexity')\n",
    "plt.ylabel('Time')\n",
    "plt.legend()\n",
    "plt.title('Hasil Clustering menggunakan DBSCAN')\n",
    "plt.show()"
   ]
  },
  {
   "cell_type": "markdown",
   "metadata": {},
   "source": [
    "**Split Data**"
   ]
  },
  {
   "cell_type": "code",
   "execution_count": 533,
   "metadata": {},
   "outputs": [],
   "source": [
    "X_train, X_test = train_test_split(dataset, test_size=0.2, random_state=42)"
   ]
  },
  {
   "cell_type": "code",
   "execution_count": 534,
   "metadata": {},
   "outputs": [],
   "source": [
    "dataset.to_csv('data/DBSCAN/data-preprocess.csv', index=False)\n",
    "\n",
    "X_train.to_csv('data/DBSCAN/data-train.csv', index=False)\n",
    "X_test.to_csv('data/DBSCAN/data-test.csv', index=False)"
   ]
  },
  {
   "cell_type": "code",
   "execution_count": 535,
   "metadata": {},
   "outputs": [],
   "source": [
    "dataset.drop(['Class'], axis=1, inplace=True)"
   ]
  }
 ],
 "metadata": {
  "kernelspec": {
   "display_name": "base",
   "language": "python",
   "name": "python3"
  },
  "language_info": {
   "codemirror_mode": {
    "name": "ipython",
    "version": 3
   },
   "file_extension": ".py",
   "mimetype": "text/x-python",
   "name": "python",
   "nbconvert_exporter": "python",
   "pygments_lexer": "ipython3",
   "version": "3.9.13"
  }
 },
 "nbformat": 4,
 "nbformat_minor": 2
}
