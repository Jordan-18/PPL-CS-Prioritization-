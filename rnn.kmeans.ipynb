{
 "cells": [
  {
   "cell_type": "code",
   "execution_count": 9,
   "metadata": {},
   "outputs": [],
   "source": [
    "import pandas as pd\n",
    "import matplotlib.pyplot as plt\n",
    "import seaborn  as sns\n",
    "from sklearn.metrics import accuracy_score\n",
    "from sklearn.metrics import confusion_matrix\n",
    "from sklearn.metrics import classification_report, ConfusionMatrixDisplay\n",
    "\n",
    "from tensorflow.keras.models import Sequential\n",
    "from tensorflow.keras.layers import LSTM, Conv1D, Flatten, Dense"
   ]
  },
  {
   "cell_type": "code",
   "execution_count": 10,
   "metadata": {},
   "outputs": [],
   "source": [
    "# dataset = pd.read_csv('data/data-tc.csv')\n",
    "# X = pd.read_csv('data/data-tc.csv', usecols=['Complexity', 'Time', 'Cost'])\n",
    "dataset = pd.read_csv('data/kmeans/data-preprocess.csv')\n",
    "X = pd.read_csv('data/kmeans/data-preprocess.csv', usecols=['Complexity', 'Time', 'Cost'])"
   ]
  },
  {
   "cell_type": "code",
   "execution_count": 11,
   "metadata": {},
   "outputs": [],
   "source": [
    "X_train = pd.read_csv('data/kmeans/data-train.csv')\n",
    "X_test = pd.read_csv('data/kmeans/data-test.csv')\n",
    "y_train = X_train['Class']\n",
    "y_test = X_test['Class']"
   ]
  },
  {
   "cell_type": "code",
   "execution_count": 12,
   "metadata": {},
   "outputs": [],
   "source": [
    "X_train.drop(['Class'], axis=1, inplace=True)\n",
    "X_test.drop(['Class'], axis=1, inplace=True)"
   ]
  },
  {
   "cell_type": "code",
   "execution_count": 13,
   "metadata": {},
   "outputs": [],
   "source": [
    "model = Sequential()\n",
    "model.add(LSTM(64, input_shape=(X_train.shape[1], 1)))\n",
    "model.add(Dense(1, activation='softmax'))"
   ]
  },
  {
   "cell_type": "code",
   "execution_count": 14,
   "metadata": {},
   "outputs": [
    {
     "name": "stdout",
     "output_type": "stream",
     "text": [
      "Epoch 1/10\n"
     ]
    },
    {
     "name": "stderr",
     "output_type": "stream",
     "text": [
      "c:\\Users\\Asus\\anaconda3\\lib\\site-packages\\tensorflow\\python\\util\\dispatch.py:1260: SyntaxWarning: In loss categorical_crossentropy, expected y_pred.shape to be (batch_size, num_classes) with num_classes > 1. Received: y_pred.shape=(None, 1). Consider using 'binary_crossentropy' if you only have 2 classes.\n",
      "  return dispatch_target(*args, **kwargs)\n"
     ]
    },
    {
     "name": "stdout",
     "output_type": "stream",
     "text": [
      "83/83 [==============================] - 2s 7ms/step - loss: 0.0000e+00 - accuracy: 0.3124 - val_loss: 0.0000e+00 - val_accuracy: 0.2704\n",
      "Epoch 2/10\n",
      " 1/83 [..............................] - ETA: 0s - loss: 0.0000e+00 - accuracy: 0.3125"
     ]
    },
    {
     "name": "stderr",
     "output_type": "stream",
     "text": [
      "c:\\Users\\Asus\\anaconda3\\lib\\site-packages\\tensorflow\\python\\util\\dispatch.py:1260: SyntaxWarning: In loss categorical_crossentropy, expected y_pred.shape to be (batch_size, num_classes) with num_classes > 1. Received: y_pred.shape=(None, 1). Consider using 'binary_crossentropy' if you only have 2 classes.\n",
      "  return dispatch_target(*args, **kwargs)\n"
     ]
    },
    {
     "name": "stdout",
     "output_type": "stream",
     "text": [
      "83/83 [==============================] - 0s 3ms/step - loss: 0.0000e+00 - accuracy: 0.3366 - val_loss: 0.0000e+00 - val_accuracy: 0.3112\n",
      "Epoch 3/10\n",
      "83/83 [==============================] - 0s 3ms/step - loss: 0.0000e+00 - accuracy: 0.3597 - val_loss: 0.0000e+00 - val_accuracy: 0.2946\n",
      "Epoch 4/10\n",
      "83/83 [==============================] - 0s 3ms/step - loss: 0.0000e+00 - accuracy: 0.3786 - val_loss: 0.0000e+00 - val_accuracy: 0.3807\n",
      "Epoch 5/10\n",
      "83/83 [==============================] - 0s 3ms/step - loss: 0.0000e+00 - accuracy: 0.4145 - val_loss: 0.0000e+00 - val_accuracy: 0.3822\n",
      "Epoch 6/10\n",
      "83/83 [==============================] - 0s 3ms/step - loss: 0.0000e+00 - accuracy: 0.4168 - val_loss: 0.0000e+00 - val_accuracy: 0.3822\n",
      "Epoch 7/10\n",
      "83/83 [==============================] - 0s 3ms/step - loss: 0.0000e+00 - accuracy: 0.4274 - val_loss: 0.0000e+00 - val_accuracy: 0.3761\n",
      "Epoch 8/10\n",
      "83/83 [==============================] - 0s 3ms/step - loss: 0.0000e+00 - accuracy: 0.4198 - val_loss: 0.0000e+00 - val_accuracy: 0.2931\n",
      "Epoch 9/10\n",
      "83/83 [==============================] - 0s 3ms/step - loss: 0.0000e+00 - accuracy: 0.4244 - val_loss: 0.0000e+00 - val_accuracy: 0.3837\n",
      "Epoch 10/10\n",
      "83/83 [==============================] - 0s 3ms/step - loss: 0.0000e+00 - accuracy: 0.4319 - val_loss: 0.0000e+00 - val_accuracy: 0.3897\n",
      "21/21 [==============================] - 0s 2ms/step - loss: 0.0000e+00 - accuracy: 0.3897\n",
      "Accuracy:  [0.0, 0.3897280991077423]\n",
      "21/21 [==============================] - 0s 2ms/step\n"
     ]
    }
   ],
   "source": [
    "model.compile(loss='categorical_crossentropy', optimizer='Adam', metrics=['accuracy'])\n",
    "\n",
    "history = model.fit(X_train, y_train, epochs=10, batch_size=32, validation_data=(X_test, y_test))\n",
    "\n",
    "accuracy = model.evaluate(X_test, y_test)\n",
    "print(\"Accuracy: \", accuracy)\n",
    "\n",
    "predictions = model.predict(X_test)\n",
    "y_pred = [1 if x > 0.5 else 0 for x in predictions]"
   ]
  },
  {
   "cell_type": "code",
   "execution_count": 15,
   "metadata": {},
   "outputs": [
    {
     "data": {
      "image/png": "[encoded data removed]",
      "text/plain": [
       "<Figure size 640x480 with 2 Axes>"
      ]
     },
     "metadata": {},
     "output_type": "display_data"
    }
   ],
   "source": [
    "cm = confusion_matrix(y_test, y_pred)\n",
    "disp = ConfusionMatrixDisplay(confusion_matrix=cm)\n",
    "disp.plot(cmap='Blues', values_format='d')\n",
    "plt.title(\"Confusion Matrix: RNN\")\n",
    "plt.show()"
   ]
  },
  {
   "cell_type": "code",
   "execution_count": 16,
   "metadata": {},
   "outputs": [
    {
     "name": "stdout",
     "output_type": "stream",
     "text": [
      "              precision    recall  f1-score   support\n",
      "\n",
      "           0       0.62      0.88      0.72       157\n",
      "           1       0.27      0.61      0.38       197\n",
      "           2       0.00      0.00      0.00       308\n",
      "\n",
      "    accuracy                           0.39       662\n",
      "   macro avg       0.30      0.50      0.37       662\n",
      "weighted avg       0.23      0.39      0.28       662\n",
      "\n"
     ]
    },
    {
     "name": "stderr",
     "output_type": "stream",
     "text": [
      "c:\\Users\\Asus\\anaconda3\\lib\\site-packages\\sklearn\\metrics\\_classification.py:1318: UndefinedMetricWarning: Precision and F-score are ill-defined and being set to 0.0 in labels with no predicted samples. Use `zero_division` parameter to control this behavior.\n",
      "  _warn_prf(average, modifier, msg_start, len(result))\n",
      "c:\\Users\\Asus\\anaconda3\\lib\\site-packages\\sklearn\\metrics\\_classification.py:1318: UndefinedMetricWarning: Precision and F-score are ill-defined and being set to 0.0 in labels with no predicted samples. Use `zero_division` parameter to control this behavior.\n",
      "  _warn_prf(average, modifier, msg_start, len(result))\n",
      "c:\\Users\\Asus\\anaconda3\\lib\\site-packages\\sklearn\\metrics\\_classification.py:1318: UndefinedMetricWarning: Precision and F-score are ill-defined and being set to 0.0 in labels with no predicted samples. Use `zero_division` parameter to control this behavior.\n",
      "  _warn_prf(average, modifier, msg_start, len(result))\n"
     ]
    }
   ],
   "source": [
    "print(classification_report(y_test, y_pred))"
   ]
  }
 ],
 "metadata": {
  "kernelspec": {
   "display_name": "base",
   "language": "python",
   "name": "python3"
  },
  "language_info": {
   "codemirror_mode": {
    "name": "ipython",
    "version": 3
   },
   "file_extension": ".py",
   "mimetype": "text/x-python",
   "name": "python",
   "nbconvert_exporter": "python",
   "pygments_lexer": "ipython3",
   "version": "3.9.13"
  }
 },
 "nbformat": 4,
 "nbformat_minor": 2
}
