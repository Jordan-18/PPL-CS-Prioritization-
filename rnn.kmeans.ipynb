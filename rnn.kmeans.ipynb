{
 "cells": [
  {
   "cell_type": "code",
   "execution_count": 18,
   "metadata": {},
   "outputs": [],
   "source": [
    "import pandas as pd\n",
    "import matplotlib.pyplot as plt\n",
    "import seaborn  as sns\n",
    "from sklearn.metrics import accuracy_score\n",
    "from sklearn.metrics import confusion_matrix\n",
    "from sklearn.metrics import classification_report, ConfusionMatrixDisplay\n",
    "\n",
    "from tensorflow.keras.models import Sequential\n",
    "from tensorflow.keras.layers import LSTM, Conv1D, Flatten, Dense"
   ]
  },
  {
   "cell_type": "code",
   "execution_count": 19,
   "metadata": {},
   "outputs": [],
   "source": [
    "# dataset = pd.read_csv('data/data-tc.csv')\n",
    "# X = pd.read_csv('data/data-tc.csv', usecols=['Complexity', 'Time', 'Cost'])\n",
    "dataset = pd.read_csv('data/kmeans/data-preprocess.csv')\n",
    "X = pd.read_csv('data/kmeans/data-preprocess.csv', usecols=['Complexity', 'Time', 'Cost'])"
   ]
  },
  {
   "cell_type": "code",
   "execution_count": 20,
   "metadata": {},
   "outputs": [],
   "source": [
    "X_train = pd.read_csv('data/kmeans/data-train.csv')\n",
    "X_test = pd.read_csv('data/kmeans/data-test.csv')\n",
    "y_train = X_train['Class']\n",
    "y_test = X_test['Class']"
   ]
  },
  {
   "cell_type": "code",
   "execution_count": 21,
   "metadata": {},
   "outputs": [],
   "source": [
    "X_train.drop(['Class'], axis=1, inplace=True)\n",
    "X_test.drop(['Class'], axis=1, inplace=True)"
   ]
  },
  {
   "cell_type": "code",
   "execution_count": 22,
   "metadata": {},
   "outputs": [],
   "source": [
    "model = Sequential()\n",
    "model.add(LSTM(64, input_shape=(X_train.shape[1], 1)))\n",
    "model.add(Dense(1, activation='sigmoid'))"
   ]
  },
  {
   "cell_type": "code",
   "execution_count": 23,
   "metadata": {},
   "outputs": [
    {
     "name": "stdout",
     "output_type": "stream",
     "text": [
      "Epoch 1/10\n"
     ]
    },
    {
     "name": "stdout",
     "output_type": "stream",
     "text": [
      "83/83 [==============================] - 2s 7ms/step - loss: -1.1593 - accuracy: 0.3336 - val_loss: -3.3380 - val_accuracy: 0.2976\n",
      "Epoch 2/10\n",
      "83/83 [==============================] - 0s 4ms/step - loss: -4.2360 - accuracy: 0.3188 - val_loss: -7.3704 - val_accuracy: 0.3580\n",
      "Epoch 3/10\n",
      "83/83 [==============================] - 0s 4ms/step - loss: -7.4918 - accuracy: 0.3725 - val_loss: -10.8007 - val_accuracy: 0.3474\n",
      "Epoch 4/10\n",
      "83/83 [==============================] - 0s 4ms/step - loss: -10.0589 - accuracy: 0.4104 - val_loss: -13.6226 - val_accuracy: 0.3505\n",
      "Epoch 5/10\n",
      "83/83 [==============================] - 0s 4ms/step - loss: -12.4111 - accuracy: 0.4247 - val_loss: -16.3118 - val_accuracy: 0.3640\n",
      "Epoch 6/10\n",
      "83/83 [==============================] - 0s 4ms/step - loss: -14.6409 - accuracy: 0.4361 - val_loss: -18.7923 - val_accuracy: 0.4653\n",
      "Epoch 7/10\n",
      "83/83 [==============================] - 0s 4ms/step - loss: -16.6211 - accuracy: 0.4584 - val_loss: -21.3580 - val_accuracy: 0.3565\n",
      "Epoch 8/10\n",
      "83/83 [==============================] - 0s 4ms/step - loss: -18.7356 - accuracy: 0.4523 - val_loss: -23.5726 - val_accuracy: 0.3565\n",
      "Epoch 9/10\n",
      "83/83 [==============================] - 0s 4ms/step - loss: -20.7877 - accuracy: 0.4981 - val_loss: -26.5152 - val_accuracy: 0.4970\n",
      "Epoch 10/10\n",
      "83/83 [==============================] - 0s 4ms/step - loss: -23.2726 - accuracy: 0.5265 - val_loss: -29.0583 - val_accuracy: 0.4909\n",
      "21/21 [==============================] - 0s 2ms/step - loss: -29.0583 - accuracy: 0.4909\n",
      "Accuracy:  [-29.058340072631836, 0.4909365475177765]\n",
      "21/21 [==============================] - 0s 1ms/step\n"
     ]
    }
   ],
   "source": [
    "model.compile(loss='binary_crossentropy', optimizer='Adam', metrics=['accuracy'])\n",
    "\n",
    "model.fit(X_train, y_train, epochs=10, batch_size=32, validation_data=(X_test, y_test))\n",
    "\n",
    "accuracy = model.evaluate(X_test, y_test)\n",
    "print(\"Accuracy: \", accuracy)\n",
    "\n",
    "predictions = model.predict(X_test)\n",
    "y_pred = [1 if x > 0.5 else 0 for x in predictions]"
   ]
  },
  {
   "cell_type": "code",
   "execution_count": 24,
   "metadata": {},
   "outputs": [
    {
     "data": {
      "image/png": "[encoded data removed]",
      "text/plain": [
       "<Figure size 640x480 with 2 Axes>"
      ]
     },
     "metadata": {},
     "output_type": "display_data"
    }
   ],
   "source": [
    "cm = confusion_matrix(y_test, y_pred)\n",
    "disp = ConfusionMatrixDisplay(confusion_matrix=cm)\n",
    "disp.plot(cmap='Blues', values_format='d')\n",
    "plt.title(\"Confusion Matrix: RNN\")\n",
    "plt.show()"
   ]
  },
  {
   "cell_type": "code",
   "execution_count": 25,
   "metadata": {},
   "outputs": [
    {
     "name": "stdout",
     "output_type": "stream",
     "text": [
      "              precision    recall  f1-score   support\n",
      "\n",
      "           0       1.00      0.82      0.90       157\n",
      "           1       0.37      1.00      0.54       197\n",
      "           2       0.00      0.00      0.00       308\n",
      "\n",
      "    accuracy                           0.49       662\n",
      "   macro avg       0.46      0.61      0.48       662\n",
      "weighted avg       0.35      0.49      0.37       662\n",
      "\n"
     ]
    },
    {
     "name": "stderr",
     "output_type": "stream",
     "text": [
      "c:\\Users\\Asus\\anaconda3\\lib\\site-packages\\sklearn\\metrics\\_classification.py:1318: UndefinedMetricWarning: Precision and F-score are ill-defined and being set to 0.0 in labels with no predicted samples. Use `zero_division` parameter to control this behavior.\n",
      "  _warn_prf(average, modifier, msg_start, len(result))\n",
      "c:\\Users\\Asus\\anaconda3\\lib\\site-packages\\sklearn\\metrics\\_classification.py:1318: UndefinedMetricWarning: Precision and F-score are ill-defined and being set to 0.0 in labels with no predicted samples. Use `zero_division` parameter to control this behavior.\n",
      "  _warn_prf(average, modifier, msg_start, len(result))\n",
      "c:\\Users\\Asus\\anaconda3\\lib\\site-packages\\sklearn\\metrics\\_classification.py:1318: UndefinedMetricWarning: Precision and F-score are ill-defined and being set to 0.0 in labels with no predicted samples. Use `zero_division` parameter to control this behavior.\n",
      "  _warn_prf(average, modifier, msg_start, len(result))\n"
     ]
    }
   ],
   "source": [
    "print(classification_report(y_test, y_pred))"
   ]
  }
 ],
 "metadata": {
  "kernelspec": {
   "display_name": "base",
   "language": "python",
   "name": "python3"
  },
  "language_info": {
   "codemirror_mode": {
    "name": "ipython",
    "version": 3
   },
   "file_extension": ".py",
   "mimetype": "text/x-python",
   "name": "python",
   "nbconvert_exporter": "python",
   "pygments_lexer": "ipython3",
   "version": "3.9.13"
  }
 },
 "nbformat": 4,
 "nbformat_minor": 2
}
