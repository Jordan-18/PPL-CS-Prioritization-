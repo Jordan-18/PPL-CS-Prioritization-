{
 "cells": [
  {
   "cell_type": "code",
   "execution_count": 1,
   "metadata": {},
   "outputs": [],
   "source": [
    "import pandas as pd\n",
    "import matplotlib.pyplot as plt\n",
    "import numpy as np\n",
    "from sklearn.metrics import accuracy_score\n",
    "from sklearn.metrics import confusion_matrix\n",
    "from sklearn.metrics import classification_report, ConfusionMatrixDisplay\n",
    "\n",
    "from tensorflow.keras.models import Sequential\n",
    "from tensorflow.keras.layers import LSTM, Dense,SimpleRNN,Dropout"
   ]
  },
  {
   "cell_type": "code",
   "execution_count": 2,
   "metadata": {},
   "outputs": [],
   "source": [
    "# dataset = pd.read_csv('data/data-tc.csv')\n",
    "# X = pd.read_csv('data/data-tc.csv', usecols=['Complexity', 'Time', 'Cost'])\n",
    "dataset = pd.read_csv('data/kmeans/data-preprocess.csv')\n",
    "X = pd.read_csv('data/kmeans/data-preprocess.csv', usecols=['Complexity', 'Time', 'Cost'])"
   ]
  },
  {
   "cell_type": "code",
   "execution_count": 3,
   "metadata": {},
   "outputs": [],
   "source": [
    "X_train = pd.read_csv('data/kmeans/data-train.csv')\n",
    "X_test = pd.read_csv('data/kmeans/data-test.csv')\n",
    "y_train = X_train['Class']\n",
    "y_test = X_test['Class']"
   ]
  },
  {
   "cell_type": "code",
   "execution_count": 4,
   "metadata": {},
   "outputs": [],
   "source": [
    "X_train.drop(['Class'], axis=1, inplace=True)\n",
    "X_test.drop(['Class'], axis=1, inplace=True)"
   ]
  },
  {
   "cell_type": "code",
   "execution_count": 5,
   "metadata": {},
   "outputs": [],
   "source": [
    "model = Sequential()\n",
    "model.add(SimpleRNN(64,activation='sigmoid', input_shape=(X_train.shape[1], 1)))\n",
    "model.add(Dense(64, activation='relu'))\n",
    "model.add(Dense(1, activation='sigmoid'))"
   ]
  },
  {
   "cell_type": "code",
   "execution_count": 6,
   "metadata": {},
   "outputs": [
    {
     "name": "stdout",
     "output_type": "stream",
     "text": [
      "Epoch 1/10\n"
     ]
    },
    {
     "name": "stderr",
     "output_type": "stream",
     "text": [
      "c:\\Users\\Asus\\anaconda3\\lib\\site-packages\\tensorflow\\python\\util\\dispatch.py:1260: SyntaxWarning: In loss categorical_crossentropy, expected y_pred.shape to be (batch_size, num_classes) with num_classes > 1. Received: y_pred.shape=(None, 1). Consider using 'binary_crossentropy' if you only have 2 classes.\n",
      "  return dispatch_target(*args, **kwargs)\n"
     ]
    },
    {
     "name": "stdout",
     "output_type": "stream",
     "text": [
      "83/83 [==============================] - 1s 4ms/step - loss: 0.0000e+00 - accuracy: 0.3336 - val_loss: 0.0000e+00 - val_accuracy: 0.2976\n",
      "Epoch 2/10\n",
      "38/83 [============>.................] - ETA: 0s - loss: 0.0000e+00 - accuracy: 0.3314"
     ]
    },
    {
     "name": "stderr",
     "output_type": "stream",
     "text": [
      "c:\\Users\\Asus\\anaconda3\\lib\\site-packages\\tensorflow\\python\\util\\dispatch.py:1260: SyntaxWarning: In loss categorical_crossentropy, expected y_pred.shape to be (batch_size, num_classes) with num_classes > 1. Received: y_pred.shape=(None, 1). Consider using 'binary_crossentropy' if you only have 2 classes.\n",
      "  return dispatch_target(*args, **kwargs)\n"
     ]
    },
    {
     "name": "stdout",
     "output_type": "stream",
     "text": [
      "83/83 [==============================] - 0s 2ms/step - loss: 0.0000e+00 - accuracy: 0.3336 - val_loss: 0.0000e+00 - val_accuracy: 0.2976\n",
      "Epoch 3/10\n",
      "83/83 [==============================] - 0s 2ms/step - loss: 0.0000e+00 - accuracy: 0.3336 - val_loss: 0.0000e+00 - val_accuracy: 0.2976\n",
      "Epoch 4/10\n",
      "83/83 [==============================] - 0s 2ms/step - loss: 0.0000e+00 - accuracy: 0.3336 - val_loss: 0.0000e+00 - val_accuracy: 0.2976\n",
      "Epoch 5/10\n",
      "83/83 [==============================] - 0s 2ms/step - loss: 0.0000e+00 - accuracy: 0.3336 - val_loss: 0.0000e+00 - val_accuracy: 0.2976\n",
      "Epoch 6/10\n",
      "83/83 [==============================] - 0s 2ms/step - loss: 0.0000e+00 - accuracy: 0.3336 - val_loss: 0.0000e+00 - val_accuracy: 0.2976\n",
      "Epoch 7/10\n",
      "83/83 [==============================] - 0s 2ms/step - loss: 0.0000e+00 - accuracy: 0.3336 - val_loss: 0.0000e+00 - val_accuracy: 0.2976\n",
      "Epoch 8/10\n",
      "83/83 [==============================] - 0s 2ms/step - loss: 0.0000e+00 - accuracy: 0.3370 - val_loss: 0.0000e+00 - val_accuracy: 0.3263\n",
      "Epoch 9/10\n",
      "83/83 [==============================] - 0s 2ms/step - loss: 0.0000e+00 - accuracy: 0.3873 - val_loss: 0.0000e+00 - val_accuracy: 0.3535\n",
      "Epoch 10/10\n",
      "83/83 [==============================] - 0s 2ms/step - loss: 0.0000e+00 - accuracy: 0.4092 - val_loss: 0.0000e+00 - val_accuracy: 0.3761\n",
      "21/21 [==============================] - 0s 1ms/step - loss: 0.0000e+00 - accuracy: 0.3761\n",
      "Accuracy:  [0.0, 0.37613293528556824]\n",
      "21/21 [==============================] - 0s 957us/step\n"
     ]
    }
   ],
   "source": [
    "model.compile(loss='categorical_crossentropy', optimizer='Adam', metrics=['accuracy'])\n",
    "\n",
    "history = model.fit(X_train, y_train, epochs=10, batch_size=32, validation_data=(X_test, y_test))\n",
    "\n",
    "accuracy = model.evaluate(X_test, y_test)\n",
    "print(\"Accuracy: \", accuracy)\n",
    "\n",
    "predictions = model.predict(X_test)\n",
    "y_pred = [0 if x <= 0.9 else (1 if 0.5 < x <= 1.0 else 2) for x in predictions]"
   ]
  },
  {
   "cell_type": "code",
   "execution_count": 7,
   "metadata": {},
   "outputs": [
    {
     "data": {
      "text/plain": [
       "array([1.28327104e-23, 1.28456895e-23, 1.28527474e-23, 1.28554935e-23,\n",
       "       1.28591719e-23, 1.28613302e-23, 1.28626066e-23, 1.28641275e-23,\n",
       "       1.28643729e-23, 1.28646671e-23, 1.28647657e-23, 1.28655996e-23,\n",
       "       4.84277646e-22, 4.85065244e-22, 4.85080087e-22, 4.85107805e-22,\n",
       "       4.85194794e-22, 4.85224430e-22, 4.89030568e-20, 4.89069762e-20,\n",
       "       4.89077226e-20, 4.89079100e-20, 4.89082816e-20, 1.46014904e-18,\n",
       "       1.46565145e-18, 1.46588626e-18, 1.46631691e-18, 1.76657999e-16,\n",
       "       1.76659349e-16, 1.76663399e-16, 1.76668110e-16, 1.76674847e-16,\n",
       "       1.76678222e-16, 4.61657379e-09, 4.61689975e-09, 4.61700544e-09,\n",
       "       4.61704053e-09, 7.87662628e-08, 7.88761625e-08, 2.61626610e-07,\n",
       "       2.66266198e-07, 2.66275066e-07, 2.66446790e-07, 2.66455942e-07,\n",
       "       2.66493799e-07, 2.66515400e-07, 2.66538024e-07, 2.66544646e-07,\n",
       "       9.67144668e-01, 9.67158258e-01, 9.67166841e-01, 9.67168033e-01,\n",
       "       9.67171788e-01, 9.67172980e-01, 9.67177808e-01, 9.67181265e-01,\n",
       "       9.67181742e-01, 9.67182457e-01, 9.67183828e-01, 9.67187941e-01,\n",
       "       9.67189312e-01, 9.67189848e-01, 9.67191160e-01, 9.67192292e-01,\n",
       "       9.67192411e-01, 9.67192471e-01, 9.67192531e-01, 9.67192650e-01,\n",
       "       9.67193127e-01, 9.67193723e-01, 9.67217743e-01, 9.67426717e-01,\n",
       "       1.00000000e+00], dtype=float32)"
      ]
     },
     "execution_count": 7,
     "metadata": {},
     "output_type": "execute_result"
    }
   ],
   "source": [
    "np.unique(predictions)"
   ]
  },
  {
   "cell_type": "code",
   "execution_count": 8,
   "metadata": {},
   "outputs": [
    {
     "data": {
      "text/plain": [
       "array([0, 1])"
      ]
     },
     "execution_count": 8,
     "metadata": {},
     "output_type": "execute_result"
    }
   ],
   "source": [
    "np.unique(y_pred)"
   ]
  },
  {
   "cell_type": "code",
   "execution_count": 9,
   "metadata": {},
   "outputs": [
    {
     "data": {
      "image/png": "[encoded data removed]",
      "text/plain": [
       "<Figure size 640x480 with 2 Axes>"
      ]
     },
     "metadata": {},
     "output_type": "display_data"
    }
   ],
   "source": [
    "cm = confusion_matrix(y_test, y_pred)\n",
    "disp = ConfusionMatrixDisplay(confusion_matrix=cm)\n",
    "disp.plot(cmap='Blues', values_format='d')\n",
    "plt.title(\"Confusion Matrix: RNN\")\n",
    "plt.show()"
   ]
  },
  {
   "cell_type": "code",
   "execution_count": 10,
   "metadata": {},
   "outputs": [
    {
     "name": "stdout",
     "output_type": "stream",
     "text": [
      "              precision    recall  f1-score   support\n",
      "\n",
      "           0       1.00      0.33      0.50       157\n",
      "           1       0.32      1.00      0.49       197\n",
      "           2       0.00      0.00      0.00       308\n",
      "\n",
      "    accuracy                           0.38       662\n",
      "   macro avg       0.44      0.44      0.33       662\n",
      "weighted avg       0.33      0.38      0.26       662\n",
      "\n"
     ]
    },
    {
     "name": "stderr",
     "output_type": "stream",
     "text": [
      "c:\\Users\\Asus\\anaconda3\\lib\\site-packages\\sklearn\\metrics\\_classification.py:1471: UndefinedMetricWarning: Precision and F-score are ill-defined and being set to 0.0 in labels with no predicted samples. Use `zero_division` parameter to control this behavior.\n",
      "  _warn_prf(average, modifier, msg_start, len(result))\n",
      "c:\\Users\\Asus\\anaconda3\\lib\\site-packages\\sklearn\\metrics\\_classification.py:1471: UndefinedMetricWarning: Precision and F-score are ill-defined and being set to 0.0 in labels with no predicted samples. Use `zero_division` parameter to control this behavior.\n",
      "  _warn_prf(average, modifier, msg_start, len(result))\n",
      "c:\\Users\\Asus\\anaconda3\\lib\\site-packages\\sklearn\\metrics\\_classification.py:1471: UndefinedMetricWarning: Precision and F-score are ill-defined and being set to 0.0 in labels with no predicted samples. Use `zero_division` parameter to control this behavior.\n",
      "  _warn_prf(average, modifier, msg_start, len(result))\n"
     ]
    }
   ],
   "source": [
    "print(classification_report(y_test, y_pred))"
   ]
  }
 ],
 "metadata": {
  "kernelspec": {
   "display_name": "base",
   "language": "python",
   "name": "python3"
  },
  "language_info": {
   "codemirror_mode": {
    "name": "ipython",
    "version": 3
   },
   "file_extension": ".py",
   "mimetype": "text/x-python",
   "name": "python",
   "nbconvert_exporter": "python",
   "pygments_lexer": "ipython3",
   "version": "3.9.13"
  }
 },
 "nbformat": 4,
 "nbformat_minor": 2
}
