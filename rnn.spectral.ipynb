{
 "cells": [
  {
   "cell_type": "code",
   "execution_count": 17,
   "metadata": {},
   "outputs": [],
   "source": [
    "import pandas as pd\n",
    "import matplotlib.pyplot as plt\n",
    "import seaborn  as sns\n",
    "from sklearn.metrics import accuracy_score\n",
    "from sklearn.metrics import confusion_matrix\n",
    "from sklearn.metrics import classification_report, ConfusionMatrixDisplay\n",
    "\n",
    "from tensorflow.keras.models import Sequential\n",
    "from tensorflow.keras.layers import LSTM, Conv1D, Flatten, Dense"
   ]
  },
  {
   "cell_type": "code",
   "execution_count": 18,
   "metadata": {},
   "outputs": [],
   "source": [
    "# dataset = pd.read_csv('data/data-tc.csv')\n",
    "# X = pd.read_csv('data/data-tc.csv', usecols=['Complexity', 'Time', 'Cost'])\n",
    "dataset = pd.read_csv('data/spectral/data-preprocess.csv')\n",
    "X = pd.read_csv('data/spectral/data-preprocess.csv', usecols=['Complexity', 'Time', 'Cost'])"
   ]
  },
  {
   "cell_type": "code",
   "execution_count": 19,
   "metadata": {},
   "outputs": [],
   "source": [
    "X_train = pd.read_csv('data/spectral/data-train.csv')\n",
    "X_test = pd.read_csv('data/spectral/data-test.csv')\n",
    "y_train = X_train['Class']\n",
    "y_test = X_test['Class']"
   ]
  },
  {
   "cell_type": "code",
   "execution_count": 20,
   "metadata": {},
   "outputs": [],
   "source": [
    "X_train.drop(['Class'], axis=1, inplace=True)\n",
    "X_test.drop(['Class'], axis=1, inplace=True)"
   ]
  },
  {
   "cell_type": "code",
   "execution_count": 21,
   "metadata": {},
   "outputs": [],
   "source": [
    "model = Sequential()\n",
    "model.add(LSTM(64, input_shape=(X_train.shape[1], 1)))\n",
    "model.add(Dense(1, activation='sigmoid'))"
   ]
  },
  {
   "cell_type": "code",
   "execution_count": 22,
   "metadata": {},
   "outputs": [
    {
     "name": "stdout",
     "output_type": "stream",
     "text": [
      "Epoch 1/10\n"
     ]
    },
    {
     "name": "stdout",
     "output_type": "stream",
     "text": [
      "83/83 [==============================] - 2s 7ms/step - loss: -0.0706 - accuracy: 0.4104 - val_loss: -0.2830 - val_accuracy: 0.4653\n",
      "Epoch 2/10\n",
      "83/83 [==============================] - 0s 3ms/step - loss: -0.3314 - accuracy: 0.4104 - val_loss: -0.5780 - val_accuracy: 0.4653\n",
      "Epoch 3/10\n",
      "83/83 [==============================] - 0s 3ms/step - loss: -2.4432 - accuracy: 0.4584 - val_loss: -4.0298 - val_accuracy: 0.6329\n",
      "Epoch 4/10\n",
      "83/83 [==============================] - 0s 3ms/step - loss: -6.2216 - accuracy: 0.6282 - val_loss: -6.6584 - val_accuracy: 0.7085\n",
      "Epoch 5/10\n",
      "83/83 [==============================] - 0s 3ms/step - loss: -8.8875 - accuracy: 0.6615 - val_loss: -9.1009 - val_accuracy: 0.7100\n",
      "Epoch 6/10\n",
      "83/83 [==============================] - 0s 3ms/step - loss: -10.8142 - accuracy: 0.6494 - val_loss: -11.0158 - val_accuracy: 0.6964\n",
      "Epoch 7/10\n",
      "83/83 [==============================] - 0s 4ms/step - loss: -13.0868 - accuracy: 0.6732 - val_loss: -12.6830 - val_accuracy: 0.6420\n",
      "Epoch 8/10\n",
      "83/83 [==============================] - 0s 4ms/step - loss: -15.0084 - accuracy: 0.6766 - val_loss: -14.2375 - val_accuracy: 0.7100\n",
      "Epoch 9/10\n",
      "83/83 [==============================] - 0s 4ms/step - loss: -16.8396 - accuracy: 0.6793 - val_loss: -15.9977 - val_accuracy: 0.7100\n",
      "Epoch 10/10\n",
      "83/83 [==============================] - 0s 3ms/step - loss: -18.6750 - accuracy: 0.6762 - val_loss: -17.5651 - val_accuracy: 0.7100\n",
      "21/21 [==============================] - 0s 2ms/step - loss: -17.5651 - accuracy: 0.7100\n",
      "Accuracy:  [-17.565080642700195, 0.7099697589874268]\n",
      "21/21 [==============================] - 0s 1ms/step\n"
     ]
    }
   ],
   "source": [
    "model.compile(loss='binary_crossentropy', optimizer='Adam', metrics=['accuracy'])\n",
    "\n",
    "model.fit(X_train, y_train, epochs=10, batch_size=32, validation_data=(X_test, y_test))\n",
    "\n",
    "accuracy = model.evaluate(X_test, y_test)\n",
    "print(\"Accuracy: \", accuracy)\n",
    "\n",
    "predictions = model.predict(X_test)\n",
    "y_pred = [1 if x > 0.5 else 0 for x in predictions]"
   ]
  },
  {
   "cell_type": "code",
   "execution_count": 23,
   "metadata": {},
   "outputs": [
    {
     "data": {
      "image/png": "[encoded data removed]",
      "text/plain": [
       "<Figure size 640x480 with 2 Axes>"
      ]
     },
     "metadata": {},
     "output_type": "display_data"
    }
   ],
   "source": [
    "cm = confusion_matrix(y_test, y_pred)\n",
    "disp = ConfusionMatrixDisplay(confusion_matrix=cm)\n",
    "disp.plot(cmap='Blues', values_format='d')\n",
    "plt.title(\"Confusion Matrix: RNN\")\n",
    "plt.show()"
   ]
  },
  {
   "cell_type": "code",
   "execution_count": 24,
   "metadata": {},
   "outputs": [
    {
     "name": "stdout",
     "output_type": "stream",
     "text": [
      "              precision    recall  f1-score   support\n",
      "\n",
      "           0       0.98      0.97      0.97       167\n",
      "           1       0.62      1.00      0.77       308\n",
      "           2       0.00      0.00      0.00       187\n",
      "\n",
      "    accuracy                           0.71       662\n",
      "   macro avg       0.53      0.66      0.58       662\n",
      "weighted avg       0.54      0.71      0.60       662\n",
      "\n"
     ]
    },
    {
     "name": "stderr",
     "output_type": "stream",
     "text": [
      "c:\\Users\\Asus\\anaconda3\\lib\\site-packages\\sklearn\\metrics\\_classification.py:1318: UndefinedMetricWarning: Precision and F-score are ill-defined and being set to 0.0 in labels with no predicted samples. Use `zero_division` parameter to control this behavior.\n",
      "  _warn_prf(average, modifier, msg_start, len(result))\n",
      "c:\\Users\\Asus\\anaconda3\\lib\\site-packages\\sklearn\\metrics\\_classification.py:1318: UndefinedMetricWarning: Precision and F-score are ill-defined and being set to 0.0 in labels with no predicted samples. Use `zero_division` parameter to control this behavior.\n",
      "  _warn_prf(average, modifier, msg_start, len(result))\n",
      "c:\\Users\\Asus\\anaconda3\\lib\\site-packages\\sklearn\\metrics\\_classification.py:1318: UndefinedMetricWarning: Precision and F-score are ill-defined and being set to 0.0 in labels with no predicted samples. Use `zero_division` parameter to control this behavior.\n",
      "  _warn_prf(average, modifier, msg_start, len(result))\n"
     ]
    }
   ],
   "source": [
    "print(classification_report(y_test, y_pred))"
   ]
  }
 ],
 "metadata": {
  "kernelspec": {
   "display_name": "base",
   "language": "python",
   "name": "python3"
  },
  "language_info": {
   "codemirror_mode": {
    "name": "ipython",
    "version": 3
   },
   "file_extension": ".py",
   "mimetype": "text/x-python",
   "name": "python",
   "nbconvert_exporter": "python",
   "pygments_lexer": "ipython3",
   "version": "3.9.13"
  }
 },
 "nbformat": 4,
 "nbformat_minor": 2
}
