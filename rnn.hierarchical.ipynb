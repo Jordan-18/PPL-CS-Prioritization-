{
 "cells": [
  {
   "cell_type": "code",
   "execution_count": 129,
   "metadata": {},
   "outputs": [],
   "source": [
    "import pandas as pd\n",
    "import matplotlib.pyplot as plt\n",
    "from sklearn.metrics import confusion_matrix\n",
    "from sklearn.metrics import classification_report, ConfusionMatrixDisplay\n",
    "\n",
    "from tensorflow.keras.models import Sequential\n",
    "from tensorflow.keras.layers import LSTM, Dense"
   ]
  },
  {
   "cell_type": "code",
   "execution_count": 130,
   "metadata": {},
   "outputs": [],
   "source": [
    "# dataset = pd.read_csv('data/data-tc.csv')\n",
    "# X = pd.read_csv('data/data-tc.csv', usecols=['Complexity', 'Time', 'Cost'])\n",
    "dataset = pd.read_csv('data/hierarchical/data-preprocess.csv')\n",
    "X = pd.read_csv('data/hierarchical/data-preprocess.csv', usecols=['Complexity', 'Time', 'Cost'])"
   ]
  },
  {
   "cell_type": "code",
   "execution_count": 131,
   "metadata": {},
   "outputs": [],
   "source": [
    "X_train = pd.read_csv('data/hierarchical/data-train.csv')\n",
    "X_test = pd.read_csv('data/hierarchical/data-test.csv')\n",
    "y_train = X_train['Class']\n",
    "y_test = X_test['Class']"
   ]
  },
  {
   "cell_type": "code",
   "execution_count": 132,
   "metadata": {},
   "outputs": [],
   "source": [
    "X_train.drop(['Class'], axis=1, inplace=True)\n",
    "X_test.drop(['Class'], axis=1, inplace=True)"
   ]
  },
  {
   "cell_type": "code",
   "execution_count": 133,
   "metadata": {},
   "outputs": [],
   "source": [
    "model = Sequential()\n",
    "model.add(LSTM(64, input_shape=(X_train.shape[1], 1)))\n",
    "model.add(Dense(1, activation='sigmoid'))"
   ]
  },
  {
   "cell_type": "code",
   "execution_count": 134,
   "metadata": {},
   "outputs": [
    {
     "name": "stdout",
     "output_type": "stream",
     "text": [
      "Epoch 1/10\n"
     ]
    },
    {
     "name": "stdout",
     "output_type": "stream",
     "text": [
      "83/83 [==============================] - 2s 7ms/step - loss: -0.3344 - accuracy: 0.2084 - val_loss: -1.4312 - val_accuracy: 0.2266\n",
      "Epoch 2/10\n",
      "83/83 [==============================] - 0s 4ms/step - loss: -2.8981 - accuracy: 0.3555 - val_loss: -4.5991 - val_accuracy: 0.4698\n",
      "Epoch 3/10\n",
      "83/83 [==============================] - 0s 3ms/step - loss: -5.6176 - accuracy: 0.4565 - val_loss: -7.6512 - val_accuracy: 0.5453\n",
      "Epoch 4/10\n",
      "83/83 [==============================] - 0s 3ms/step - loss: -8.8436 - accuracy: 0.5034 - val_loss: -10.4546 - val_accuracy: 0.4879\n",
      "Epoch 5/10\n",
      "83/83 [==============================] - 0s 4ms/step - loss: -11.6800 - accuracy: 0.5155 - val_loss: -13.0072 - val_accuracy: 0.5332\n",
      "Epoch 6/10\n",
      "83/83 [==============================] - 0s 4ms/step - loss: -14.1493 - accuracy: 0.5234 - val_loss: -15.3591 - val_accuracy: 0.5453\n",
      "Epoch 7/10\n",
      "83/83 [==============================] - 0s 4ms/step - loss: -16.4167 - accuracy: 0.5280 - val_loss: -17.5900 - val_accuracy: 0.5453\n",
      "Epoch 8/10\n",
      "83/83 [==============================] - 0s 4ms/step - loss: -18.5837 - accuracy: 0.5287 - val_loss: -19.7189 - val_accuracy: 0.5468\n",
      "Epoch 9/10\n",
      "83/83 [==============================] - 0s 4ms/step - loss: -20.7624 - accuracy: 0.5276 - val_loss: -21.9421 - val_accuracy: 0.5544\n",
      "Epoch 10/10\n",
      "83/83 [==============================] - 0s 4ms/step - loss: -24.0267 - accuracy: 0.5401 - val_loss: -25.5923 - val_accuracy: 0.5710\n",
      "21/21 [==============================] - 0s 1ms/step - loss: -25.5923 - accuracy: 0.5710\n",
      "Accuracy:  [-25.592308044433594, 0.5709969997406006]\n",
      "21/21 [==============================] - 0s 1ms/step\n"
     ]
    }
   ],
   "source": [
    "model.compile(loss='binary_crossentropy', optimizer='Adam', metrics=['accuracy'])\n",
    "\n",
    "model.fit(X_train, y_train, epochs=10, batch_size=32, validation_data=(X_test, y_test))\n",
    "\n",
    "accuracy = model.evaluate(X_test, y_test)\n",
    "print(\"Accuracy: \", accuracy)\n",
    "\n",
    "predictions = model.predict(X_test)\n",
    "y_pred = [1 if x > 0.5 else 0 for x in predictions]"
   ]
  },
  {
   "cell_type": "code",
   "execution_count": 135,
   "metadata": {},
   "outputs": [
    {
     "data": {
      "image/png": "[encoded data removed]",
      "text/plain": [
       "<Figure size 640x480 with 2 Axes>"
      ]
     },
     "metadata": {},
     "output_type": "display_data"
    }
   ],
   "source": [
    "cm = confusion_matrix(y_test, y_pred)\n",
    "disp = ConfusionMatrixDisplay(confusion_matrix=cm)\n",
    "disp.plot(cmap='Blues', values_format='d')\n",
    "plt.title(\"Confusion Matrix: RNN\")\n",
    "plt.show()"
   ]
  },
  {
   "cell_type": "code",
   "execution_count": 136,
   "metadata": {},
   "outputs": [
    {
     "name": "stdout",
     "output_type": "stream",
     "text": [
      "              precision    recall  f1-score   support\n",
      "\n",
      "           0       1.00      0.92      0.96       248\n",
      "           1       0.35      1.00      0.51       150\n",
      "           2       0.00      0.00      0.00       264\n",
      "\n",
      "    accuracy                           0.57       662\n",
      "   macro avg       0.45      0.64      0.49       662\n",
      "weighted avg       0.45      0.57      0.48       662\n",
      "\n"
     ]
    },
    {
     "name": "stderr",
     "output_type": "stream",
     "text": [
      "c:\\Users\\Asus\\anaconda3\\lib\\site-packages\\sklearn\\metrics\\_classification.py:1318: UndefinedMetricWarning: Precision and F-score are ill-defined and being set to 0.0 in labels with no predicted samples. Use `zero_division` parameter to control this behavior.\n",
      "  _warn_prf(average, modifier, msg_start, len(result))\n",
      "c:\\Users\\Asus\\anaconda3\\lib\\site-packages\\sklearn\\metrics\\_classification.py:1318: UndefinedMetricWarning: Precision and F-score are ill-defined and being set to 0.0 in labels with no predicted samples. Use `zero_division` parameter to control this behavior.\n",
      "  _warn_prf(average, modifier, msg_start, len(result))\n",
      "c:\\Users\\Asus\\anaconda3\\lib\\site-packages\\sklearn\\metrics\\_classification.py:1318: UndefinedMetricWarning: Precision and F-score are ill-defined and being set to 0.0 in labels with no predicted samples. Use `zero_division` parameter to control this behavior.\n",
      "  _warn_prf(average, modifier, msg_start, len(result))\n"
     ]
    }
   ],
   "source": [
    "print(classification_report(y_test, y_pred))"
   ]
  }
 ],
 "metadata": {
  "kernelspec": {
   "display_name": "base",
   "language": "python",
   "name": "python3"
  },
  "language_info": {
   "codemirror_mode": {
    "name": "ipython",
    "version": 3
   },
   "file_extension": ".py",
   "mimetype": "text/x-python",
   "name": "python",
   "nbconvert_exporter": "python",
   "pygments_lexer": "ipython3",
   "version": "3.9.13"
  }
 },
 "nbformat": 4,
 "nbformat_minor": 2
}
