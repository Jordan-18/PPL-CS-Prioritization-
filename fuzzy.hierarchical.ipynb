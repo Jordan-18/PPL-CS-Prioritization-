{
 "cells": [
  {
   "cell_type": "code",
   "execution_count": 1,
   "metadata": {},
   "outputs": [
    {
     "name": "stderr",
     "output_type": "stream",
     "text": [
      "c:\\Users\\Asus\\anaconda3\\lib\\site-packages\\scipy\\__init__.py:155: UserWarning: A NumPy version >=1.18.5 and <1.25.0 is required for this version of SciPy (detected version 1.26.1\n",
      "  warnings.warn(f\"A NumPy version >={np_minversion} and <{np_maxversion}\"\n"
     ]
    }
   ],
   "source": [
    "import pandas as pd\n",
    "import numpy as np\n",
    "\n",
    "import skfuzzy as fuzz\n",
    "from skfuzzy import control as ctrl"
   ]
  },
  {
   "cell_type": "code",
   "execution_count": 2,
   "metadata": {},
   "outputs": [],
   "source": [
    "# dataset = pd.read_csv('data/data-tc.csv')\n",
    "# X = pd.read_csv('data/data-tc.csv', usecols=['Complexity', 'Time', 'Cost'])\n",
    "dataset = pd.read_csv('data/hierarchical/data-test.csv')\n",
    "X = pd.read_csv('data/hierarchical/data-test.csv', usecols=['Complexity', 'Time', 'Cost'])"
   ]
  },
  {
   "cell_type": "code",
   "execution_count": 3,
   "metadata": {},
   "outputs": [],
   "source": [
    "R_Priority = ctrl.Antecedent(np.arange(0, 201, 1), 'R_Priority')\n",
    "Complexity = ctrl.Antecedent(np.arange(1, 6, 1), 'Complexity')\n",
    "Time = ctrl.Antecedent(np.arange(1, 6, 1), 'Time')\n",
    "Cost = ctrl.Antecedent(np.arange(20, 101, 1), 'Cost')\n",
    "\n",
    "Rank = ctrl.Consequent(np.arange(1, 4, 1), 'Rank')"
   ]
  },
  {
   "cell_type": "code",
   "execution_count": 4,
   "metadata": {},
   "outputs": [],
   "source": [
    "Complexity.automf(3)\n",
    "Time.automf(3)\n",
    "Cost.automf(3)"
   ]
  },
  {
   "cell_type": "code",
   "execution_count": 5,
   "metadata": {},
   "outputs": [],
   "source": [
    "Rank['low'] = fuzz.trimf(Rank.universe, [1, 1, 1])\n",
    "Rank['medium'] = fuzz.trimf(Rank.universe, [2, 2, 2])\n",
    "Rank['high'] = fuzz.trimf(Rank.universe, [3, 3, 3])\n",
    "\n",
    "# Complexity['low'] = fuzz.trimf(Complexity.universe, [1, 2, 3])\n",
    "# Complexity['medium'] = fuzz.trimf(Complexity.universe, [2, 3, 4])\n",
    "# Complexity['high'] = fuzz.trimf(Complexity.universe, [3, 4, 5])\n",
    "# Time['low'] = fuzz.trimf(Time.universe, [1, 7, 14])\n",
    "# Time['medium'] = fuzz.trimf(Time.universe, [7, 14, 21])\n",
    "# Time['high'] = fuzz.trimf(Time.universe, [14, 21, 28])\n",
    "# Cost['low'] = fuzz.trimf(Cost.universe, [7, 50, 100])\n",
    "# Cost['medium'] = fuzz.trimf(Cost.universe, [50, 100, 150])\n",
    "# Cost['high'] = fuzz.trimf(Cost.universe, [100, 150, 210])\n",
    "\n",
    "Complexity['low'] = fuzz.trimf(Complexity.universe, [-1.244620, -1.244620, 1.197458])\n",
    "Complexity['medium'] = fuzz.trimf(Complexity.universe, [-1.244620, 1.197458, 1.197458])\n",
    "Complexity['high'] = fuzz.trimf(Complexity.universe, [1.197458, 1.197458, 1.197458])\n",
    "Time['low'] = fuzz.trimf(Time.universe, [-1.986636, -0.405723, 1.175190])\n",
    "Time['medium'] = fuzz.trimf(Time.universe, [-1.986636, -0.405723, 1.175190])\n",
    "Time['high'] = fuzz.trimf(Time.universe, [-1.986636, -0.405723, 1.175190])\n",
    "Cost['low'] = fuzz.trimf(Cost.universe, [-1.309396, -0.627751, 0.650333])\n",
    "Cost['medium'] = fuzz.trimf(Cost.universe, [-1.309396, -0.627751, 0.650333])\n",
    "Cost['high'] = fuzz.trimf(Cost.universe, [-1.309396, -0.627751, 0.650333])\n"
   ]
  },
  {
   "cell_type": "code",
   "execution_count": 6,
   "metadata": {},
   "outputs": [],
   "source": [
    "rule1 = ctrl.Rule(Complexity['low'] | Time['low'] | Cost['low'], Rank['low'])\n",
    "rule2 = ctrl.Rule(Complexity['high'] | Time['low'] | Cost['low'], Rank['low'])\n",
    "rule3 = ctrl.Rule(Complexity['medium'] | Time['high'] | Cost['medium'], Rank['low'])\n",
    "rule4 = ctrl.Rule(Complexity['high'] | Time['medium'] | Cost['medium'], Rank['low'])\n",
    "rule5 = ctrl.Rule(Complexity['low'] | Time['high'] | Cost['low'], Rank['low'])\n",
    "rule6 = ctrl.Rule(Complexity['medium'] | Time['high'] | Cost['low'], Rank['low'])\n",
    "rule7 = ctrl.Rule(Complexity['low'] & Time['low'] & Cost['low'], Rank['low'])\n",
    "rule8 = ctrl.Rule(Complexity['low'] | Time['medium'] | Cost['medium'], Rank['low'])\n",
    "rule9 = ctrl.Rule(Complexity['low'] | Time['low'] | Cost['medium'], Rank['low'])\n",
    "rule10 = ctrl.Rule(Complexity['medium'] | Time['low'] | Cost['low'], Rank['low'])\n",
    "rule11 = ctrl.Rule(Complexity['low'] | Time['medium'] | Cost['low'], Rank['low'])\n",
    "rule12 = ctrl.Rule(Complexity['medium'] | Time['medium'] | Cost['medium'], Rank['medium'])\n",
    "rule13 = ctrl.Rule(Complexity['medium'] | Time['medium'] | Cost['medium'], Rank['medium'])\n",
    "rule14 = ctrl.Rule(Complexity['medium'] | Time['high'] | Cost['high'], Rank['high'])\n",
    "rule15 = ctrl.Rule(Complexity['high'] | Time['medium'] | Cost['low'], Rank['medium'])\n",
    "rule16 = ctrl.Rule(Complexity['low'] | Time['medium'] | Cost['high'], Rank['medium'])\n",
    "rule17 = ctrl.Rule(Complexity['low'] | Time['high'] | Cost['medium'], Rank['medium'])\n",
    "rule18 = ctrl.Rule(Complexity['medium'] | Time['high'] | Cost['low'], Rank['medium'])\n",
    "rule19 = ctrl.Rule(Complexity['high'] | Time['high'] | Cost['low'], Rank['medium'])\n",
    "rule20 = ctrl.Rule(Complexity['low'] | Time['medium'] | Cost['medium'], Rank['medium'])\n",
    "rule21 = ctrl.Rule(Complexity['high'] | Time['low'] | Cost['medium'], Rank['medium'])\n",
    "rule22 = ctrl.Rule(Complexity['medium'] & Time['medium'] & Cost['medium'], Rank['medium'])\n",
    "rule23 = ctrl.Rule(Complexity['low'] & Time['medium'] | Cost['high'], Rank['medium'])\n",
    "rule24 = ctrl.Rule(Complexity['high'] | Time['high'] | Cost['high'], Rank['high'])\n",
    "rule25 = ctrl.Rule(Complexity['high'] | Time['high'] | Cost['high'], Rank['high'])\n",
    "rule26 = ctrl.Rule(Complexity['medium'] | Time['low'] | Cost['medium'], Rank['high'])\n",
    "rule27 = ctrl.Rule(Complexity['high'] | Time['low'] | Cost['high'], Rank['high'])\n",
    "rule28 = ctrl.Rule(Complexity['low'] | Time['high'] | Cost['high'], Rank['high'])\n",
    "rule29 = ctrl.Rule(Complexity['medium'] | Time['medium'] | Cost['high'], Rank['high'])\n",
    "rule30 = ctrl.Rule(Complexity['high'] | Time['medium'] | Cost['high'], Rank['high'])\n",
    "rule31 = ctrl.Rule(Complexity['medium'] | Time['high'] | Cost['high'], Rank['high'])\n",
    "rule32 = ctrl.Rule(Complexity['low'] | Time['medium'] | Cost['high'], Rank['high'])\n",
    "rule33 = ctrl.Rule(Complexity['high'] & Time['high'] & Cost['high'], Rank['high'])\n",
    "rule34 = ctrl.Rule(Complexity['high'] | Time['medium'] & Cost['low'], Rank['high'])\n",
    "\n",
    "ranking_ctrl = ctrl.ControlSystem([\n",
    "    rule1, rule2, rule3, rule4, rule5, rule6, rule7, rule8, rule9, rule10,\n",
    "    rule11, rule12, rule13, rule14, rule15, rule16, rule17, rule18, rule19,\n",
    "    rule20, rule21, rule22, rule23, rule24, rule25, rule26, rule27, rule28, \n",
    "    rule29, rule30, rule31, rule32, rule33, rule34\n",
    "])\n",
    "\n",
    "ranking_system = ctrl.ControlSystemSimulation(ranking_ctrl)"
   ]
  },
  {
   "cell_type": "code",
   "execution_count": 7,
   "metadata": {},
   "outputs": [],
   "source": [
    "for index,rows in X.iterrows():\n",
    "    ranking_system.input['Complexity'] = rows['Complexity']\n",
    "    ranking_system.input['Time'] = rows['Time']\n",
    "    ranking_system.input['Cost'] = rows['Cost']\n",
    "    ranking_system.compute()\n",
    "    result = ranking_system.output['Rank']\n",
    "    X['Class'] = round(result)    "
   ]
  },
  {
   "cell_type": "code",
   "execution_count": 8,
   "metadata": {},
   "outputs": [
    {
     "name": "stdout",
     "output_type": "stream",
     "text": [
      "Accuracy: 0.40\n"
     ]
    }
   ],
   "source": [
    "prediction = 0\n",
    "for index,rows in dataset.iterrows():\n",
    "    if int(rows['Class']) == int(X['Class'][index]):\n",
    "        prediction += 1\n",
    "        \n",
    "accuracy = prediction / len(dataset) \n",
    "print(f\"Accuracy: {accuracy:.2f}\")"
   ]
  },
  {
   "cell_type": "code",
   "execution_count": 9,
   "metadata": {},
   "outputs": [],
   "source": [
    "from sklearn.metrics import confusion_matrix\n",
    "from sklearn.metrics import classification_report, ConfusionMatrixDisplay\n",
    "import matplotlib.pyplot as plt\n",
    "\n",
    "y_test = dataset['Class']\n",
    "y_pred = X['Class']"
   ]
  },
  {
   "cell_type": "code",
   "execution_count": 10,
   "metadata": {},
   "outputs": [
    {
     "data": {
      "image/png": "[encoded data removed]",
      "text/plain": [
       "<Figure size 640x480 with 2 Axes>"
      ]
     },
     "metadata": {},
     "output_type": "display_data"
    }
   ],
   "source": [
    "cm = confusion_matrix(y_test, y_pred)\n",
    "disp = ConfusionMatrixDisplay(confusion_matrix=cm)\n",
    "disp.plot(cmap='Blues', values_format='d')\n",
    "plt.title(\"Confusion Matrix: K-Means Clasifier\")\n",
    "plt.show()"
   ]
  },
  {
   "cell_type": "code",
   "execution_count": 11,
   "metadata": {},
   "outputs": [
    {
     "name": "stdout",
     "output_type": "stream",
     "text": [
      "              precision    recall  f1-score   support\n",
      "\n",
      "           0       0.00      0.00      0.00       248\n",
      "           1       0.00      0.00      0.00       150\n",
      "           2       0.40      1.00      0.57       264\n",
      "\n",
      "    accuracy                           0.40       662\n",
      "   macro avg       0.13      0.33      0.19       662\n",
      "weighted avg       0.16      0.40      0.23       662\n",
      "\n"
     ]
    },
    {
     "name": "stderr",
     "output_type": "stream",
     "text": [
      "c:\\Users\\Asus\\anaconda3\\lib\\site-packages\\sklearn\\metrics\\_classification.py:1318: UndefinedMetricWarning: Precision and F-score are ill-defined and being set to 0.0 in labels with no predicted samples. Use `zero_division` parameter to control this behavior.\n",
      "  _warn_prf(average, modifier, msg_start, len(result))\n",
      "c:\\Users\\Asus\\anaconda3\\lib\\site-packages\\sklearn\\metrics\\_classification.py:1318: UndefinedMetricWarning: Precision and F-score are ill-defined and being set to 0.0 in labels with no predicted samples. Use `zero_division` parameter to control this behavior.\n",
      "  _warn_prf(average, modifier, msg_start, len(result))\n",
      "c:\\Users\\Asus\\anaconda3\\lib\\site-packages\\sklearn\\metrics\\_classification.py:1318: UndefinedMetricWarning: Precision and F-score are ill-defined and being set to 0.0 in labels with no predicted samples. Use `zero_division` parameter to control this behavior.\n",
      "  _warn_prf(average, modifier, msg_start, len(result))\n"
     ]
    }
   ],
   "source": [
    "print(classification_report(y_test, y_pred))"
   ]
  }
 ],
 "metadata": {
  "kernelspec": {
   "display_name": "base",
   "language": "python",
   "name": "python3"
  },
  "language_info": {
   "codemirror_mode": {
    "name": "ipython",
    "version": 3
   },
   "file_extension": ".py",
   "mimetype": "text/x-python",
   "name": "python",
   "nbconvert_exporter": "python",
   "pygments_lexer": "ipython3",
   "version": "3.9.13"
  }
 },
 "nbformat": 4,
 "nbformat_minor": 2
}
